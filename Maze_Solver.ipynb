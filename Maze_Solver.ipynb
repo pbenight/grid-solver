{
  "cells": [
    {
      "cell_type": "markdown",
      "metadata": {
        "id": "view-in-github",
        "colab_type": "text"
      },
      "source": [
        "<a href=\"https://colab.research.google.com/github/pbenight/grid-solver/blob/main/Maze_Solver.ipynb\" target=\"_parent\"><img src=\"https://colab.research.google.com/assets/colab-badge.svg\" alt=\"Open In Colab\"/></a>"
      ]
    },
    {
      "cell_type": "code",
      "execution_count": null,
      "metadata": {
        "id": "Cfkt2pvp_vtQ"
      },
      "outputs": [],
      "source": [
        "import copy\n",
        "import time\n",
        "import random\n",
        "from PIL import Image, ImageDraw\n",
        "import json\n",
        "from google.colab import files"
      ]
    },
    {
      "cell_type": "code",
      "execution_count": null,
      "metadata": {
        "id": "RhcdD9G6AKPX"
      },
      "outputs": [],
      "source": [
        "def get_barrier_locations():\n",
        "  user_quits = \"\"\n",
        "  print(   \"\"\"Please input the locations where the blocks are located one at a time in X,Y format with \\n\n",
        "              the top left of the board being (0,0) and the bottom right being (9,9). When you are done,\\n\n",
        "              enter in '.' and I will begin running. Expect approximately 10 minutes for me to finish.\\n\n",
        "              Ex. 1,3\"\"\")\n",
        "  current_barrier_locations = []\n",
        "  even_count = 0\n",
        "  odd_count = 0\n",
        "  i = 1\n",
        "  while user_quits != \".\":\n",
        "    user_selection = input(\"Please enter block number {} in x,y format\".format(i))\n",
        "    i += 1\n",
        "    try:\n",
        "      if \" \" in user_selection:\n",
        "        choices = user_selection.split(\" \")\n",
        "        for choice in choices:\n",
        "          x, y = choice.split(\",\")\n",
        "          x = int(x)\n",
        "          y = int(y)\n",
        "          current_barrier_locations.append((x, y))\n",
        "          if (x + y) % 2 == 0:\n",
        "            even_count += 1\n",
        "          else:\n",
        "            odd_count += 1\n",
        "      else:\n",
        "        x, y = user_selection.split(\",\")\n",
        "        x = int(x)\n",
        "        y = int(y)\n",
        "        current_barrier_locations.append((x, y))\n",
        "        if (x + y) % 2 == 0:\n",
        "          even_count += 1\n",
        "        else:\n",
        "          odd_count += 1\n",
        "    except Exception:\n",
        "      print(\"That was not an accepted input.\")\n",
        "    print(\"The current blocks are: {}\".format(current_barrier_locations))\n",
        "    mistake = input(\"If this is correct, hit 'y', if this is wrong, type anything else.\")\n",
        "    if mistake != \"y\":\n",
        "      i = 1\n",
        "      current_barrier_locations = []\n",
        "\n",
        "    user_quits = input(\"If that's all, please enter '.'. If not, enter anything else.\")\n",
        "  if odd_count != even_count:\n",
        "    print(\"This board is likely unsolveable. Continue at your own risk.\")\n",
        "  return current_barrier_locations"
      ]
    },
    {
      "cell_type": "code",
      "execution_count": null,
      "metadata": {
        "id": "KTfbXB4AdrY5"
      },
      "outputs": [],
      "source": [
        "def generate_random_barriers(grid_size=10, start=(0,0), num_barriers=4):\n",
        "  start_x, start_y = start\n",
        "\n",
        "  even_count = 0\n",
        "  odd_count = 0\n",
        "\n",
        "  i = 1\n",
        "  barrier_locs = []\n",
        "\n",
        "  while i <= num_barriers:\n",
        "    x = random.randint(0, grid_size - 1)\n",
        "    y = random.randint(0, grid_size - 1)\n",
        "\n",
        "    if x == start_x and y == start_y: #if the barrier is at the start, skip\n",
        "      continue\n",
        "    elif (x,y) in barrier_locs:\n",
        "      continue\n",
        "    elif (x + y) % 2 == 0: #if the barrier is at an even location\n",
        "      if even_count == num_barriers / 2:\n",
        "        continue\n",
        "      else:\n",
        "        barrier_locs.append((x, y))\n",
        "        even_count += 1\n",
        "        i += 1\n",
        "    else: # the barrier is at an odd location\n",
        "      if odd_count == num_barriers / 2:\n",
        "        continue\n",
        "      else:\n",
        "        barrier_locs.append((x, y))\n",
        "        odd_count += 1\n",
        "        i += 1\n",
        "\n",
        "  barrier_locs.sort()\n",
        "\n",
        "  return barrier_locs"
      ]
    },
    {
      "cell_type": "code",
      "execution_count": null,
      "metadata": {
        "id": "CtzNq1nL422U"
      },
      "outputs": [],
      "source": [
        "def generate_maze(barrier_locs=[], grid_size=10):\n",
        "  \"\"\" \n",
        "  Since we're building down, I used y axis first and then filled in x axis.\n",
        "  With that, when you print it, it'll be Row by row instead of Columns.\n",
        "  \"\"\"\n",
        "  y_axis = []\n",
        "  y = 0\n",
        "  while y < grid_size:\n",
        "\n",
        "    x_axis = []\n",
        "    x = 0\n",
        "    while x < grid_size:\n",
        "      if (x,y) in barrier_locs:\n",
        "        x_axis.append(999) #these are barriers\n",
        "      else:\n",
        "        x_axis.append(0) #these are unvisited spaces\n",
        "      x += 1\n",
        "\n",
        "    y_axis.append(x_axis)\n",
        "    y += 1\n",
        "\n",
        "  maze = y_axis\n",
        "  #the highest score *should* be the total number of spaces in the maze minus the number of barriers\n",
        "  max_score = (grid_size * grid_size) - len(barrier_locs) \n",
        "  return maze, max_score"
      ]
    },
    {
      "cell_type": "code",
      "execution_count": null,
      "metadata": {
        "id": "7x6KpA5sS4yp"
      },
      "outputs": [],
      "source": [
        "def get_open_positions(maze):\n",
        "  \"\"\"\n",
        "  Returns all the positions in the maze that are zero\n",
        "  currently not using the closed_positions\n",
        "  \"\"\"\n",
        "  open_positions = []\n",
        "  closed_positions = []\n",
        "  for x, row in enumerate(maze):\n",
        "    for y, value in enumerate(row):\n",
        "      if value > 0: #since we're assuming 0 as empty, anything bigger has been visited, and therefore is closed\n",
        "        closed_positions.append((x, y))\n",
        "      else: #all else are open\n",
        "        open_positions.append((x, y))\n",
        "\n",
        "  return open_positions"
      ]
    },
    {
      "cell_type": "code",
      "execution_count": null,
      "metadata": {
        "id": "oIG3IOo_Q2aA"
      },
      "outputs": [],
      "source": [
        "def move_south(loc):\n",
        "  \"\"\"\n",
        "  Simple function to move the current square the direction stated in the name\n",
        "  \"\"\"\n",
        "\n",
        "  x, y = loc\n",
        "  return (x, y + 1)"
      ]
    },
    {
      "cell_type": "code",
      "execution_count": null,
      "metadata": {
        "id": "-Rab3NbHRD8p"
      },
      "outputs": [],
      "source": [
        "def move_north(loc):\n",
        "  \"\"\"\n",
        "  Simple function to move the current square the direction stated in the name\n",
        "  \"\"\"\n",
        "  x, y = loc\n",
        "  return (x, y - 1)"
      ]
    },
    {
      "cell_type": "code",
      "execution_count": null,
      "metadata": {
        "id": "9kmnbHzWRESD"
      },
      "outputs": [],
      "source": [
        "def move_east(loc):\n",
        "  \"\"\"\n",
        "  Simple function to move the current square the direction stated in the name\n",
        "  \"\"\"\n",
        "  x, y = loc\n",
        "  return (x + 1, y)"
      ]
    },
    {
      "cell_type": "code",
      "execution_count": null,
      "metadata": {
        "id": "wfzLCjCRREen"
      },
      "outputs": [],
      "source": [
        "def move_west(loc):\n",
        "  \"\"\"\n",
        "  Simple function to move the current square the direction stated in the name\n",
        "  \"\"\"\n",
        "  x, y = loc\n",
        "  return (x - 1, y)"
      ]
    },
    {
      "cell_type": "code",
      "execution_count": null,
      "metadata": {
        "id": "E1zd2s2qLLiR"
      },
      "outputs": [],
      "source": [
        "def current_neighbors(loc, open_positions):\n",
        "  \"\"\"\n",
        "  Neighbors are a big thing, and this function assumes that we want it to be a viable/traversable neighbor. \n",
        "  This function returns all the cardinal direction neighbors of a location provided.\n",
        "  It checks to make sure that the new location is part of the open_positions, so a new open_positions has to be passed in every time.\n",
        "  \"\"\"\n",
        "  neighbors = []\n",
        "  north = move_north(loc)\n",
        "  south = move_south(loc)\n",
        "  east = move_east(loc)\n",
        "  west = move_west(loc)\n",
        "  if east in open_positions:\n",
        "    neighbors.append(east)\n",
        "  if south in open_positions:\n",
        "    neighbors.append(south)\n",
        "  if west in open_positions:\n",
        "    neighbors.append(west)\n",
        "  if north in open_positions:\n",
        "    neighbors.append(north)\n",
        "  return neighbors"
      ]
    },
    {
      "cell_type": "code",
      "execution_count": null,
      "metadata": {
        "id": "uEfiVFgQ7LqD"
      },
      "outputs": [],
      "source": [
        "def generate_path(maze, end):\n",
        "  i, j = end\n",
        "  k = maze[i][j]\n",
        "  the_path = [(i,j)]\n",
        "  while k > 1:\n",
        "    if i > 0 and maze[i - 1][j] == k-1:\n",
        "      i, j = i-1, j\n",
        "      the_path.append((i, j))\n",
        "      k-=1\n",
        "    elif j > 0 and maze[i][j - 1] == k-1:\n",
        "      i, j = i, j-1\n",
        "      the_path.append((i, j))\n",
        "      k-=1\n",
        "    elif i < len(maze) - 1 and maze[i + 1][j] == k-1:\n",
        "      i, j = i+1, j\n",
        "      the_path.append((i, j))\n",
        "      k-=1\n",
        "    elif j < len(maze[i]) - 1 and maze[i][j + 1] == k-1:\n",
        "      i, j = i, j+1\n",
        "      the_path.append((i, j))\n",
        "      k -= 1\n",
        "  return the_path"
      ]
    },
    {
      "cell_type": "code",
      "execution_count": null,
      "metadata": {
        "id": "dDugYvmK3vjV"
      },
      "outputs": [],
      "source": [
        "def draw_matrix(a, end, the_path = []):\n",
        "  zoom = 20\n",
        "  borders = 6\n",
        "  start = 0,0\n",
        "  images = []\n",
        "  im = Image.new('RGB', (zoom * len(a[0]), zoom * len(a)), (255, 255, 255))\n",
        "  draw = ImageDraw.Draw(im)\n",
        "  for i in range(len(a)):\n",
        "      for j in range(len(a[i])):\n",
        "          color = (255, 255, 255)\n",
        "          r = 0\n",
        "          if a[i][j] == 999:\n",
        "              color = (0, 0, 0)\n",
        "          if i == start[0] and j == start[1]:\n",
        "              color = (0, 255, 0)\n",
        "              r = borders\n",
        "          if i == end[0] and j == end[1]:\n",
        "              color = (0, 255, 0)\n",
        "              r = borders\n",
        "          draw.rectangle((j*zoom+r, i*zoom+r, j*zoom+zoom-r-1, i*zoom+zoom-r-1), fill=color)\n",
        "\n",
        "  for u in range(len(the_path)-1):\n",
        "      y = the_path[u][0]*zoom + int(zoom/2)\n",
        "      x = the_path[u][1]*zoom + int(zoom/2)\n",
        "      y1 = the_path[u+1][0]*zoom + int(zoom/2)\n",
        "      x1 = the_path[u+1][1]*zoom + int(zoom/2)\n",
        "      draw.line((x,y,x1,y1), fill=(255, 0,0), width=5)\n",
        "  draw.rectangle((0, 0, zoom * len(a[0]), zoom * len(a)), outline=(0,255,0), width=2)\n",
        "  images.append(im)\n",
        "  images[0].save('maze.gif',\n",
        "               save_all=True, append_images=images[1:],\n",
        "               optimize=False, duration=1, loop=0)"
      ]
    },
    {
      "cell_type": "code",
      "execution_count": null,
      "metadata": {
        "id": "AjkEHrmrWWRx"
      },
      "outputs": [],
      "source": [
        "def export_maze(maze, barrier_locs):\n",
        "  \"\"\"\n",
        "  This function saves the completed mazes with the sorted barrier locations as the key\n",
        "  By memoizing the end states, will save on computation for future copies of the same puzzle\n",
        "  \"\"\"\n",
        "  maze_data = {}\n",
        "  barrier_locs.sort() #make sure the keys are in ascending order\n",
        "  try:\n",
        "    with open(\"maze_data.json\", 'r') as f:\n",
        "      maze_data = json.load(f)\n",
        "  except Exception as e:\n",
        "    pass #no file exists, continue on\n",
        "  barrier_locs_str = str(barrier_locs)\n",
        "  maze_data[barrier_locs_str] = maze\n",
        "  with open('maze_data.json', 'w') as f:\n",
        "    json.dump(maze_data, f)\n",
        "  return None"
      ]
    },
    {
      "cell_type": "code",
      "execution_count": null,
      "metadata": {
        "id": "fOmd7UyFb2yi"
      },
      "outputs": [],
      "source": [
        "def check_prev_solved(barrier_locs):\n",
        "  try:\n",
        "    with open(\"maze_data.json\", 'r') as f:\n",
        "      maze_data = json.load(f)\n",
        "      barrier_locs_str = str(barrier_locs)\n",
        "      if barrier_locs_str in maze_data:\n",
        "        return maze_data[barrier_locs_str]\n",
        "      else:\n",
        "        return None\n",
        "  except Exception as e:\n",
        "    return None"
      ]
    },
    {
      "cell_type": "code",
      "execution_count": null,
      "metadata": {
        "id": "tSDjI9ILa6-i"
      },
      "outputs": [],
      "source": [
        "def print_maze(maze):\n",
        "  local_maze = copy.deepcopy(maze)\n",
        "  for y_count, column in enumerate(local_maze):\n",
        "    for x_count, value in enumerate(column):\n",
        "      if value == 999:\n",
        "        local_maze[y_count][x_count] = \"XX\"\n",
        "      elif value == 0:\n",
        "        local_maze[y_count][x_count] = \"00\"\n",
        "      elif value < 10:\n",
        "        local_maze[y_count][x_count] = \"0\" + str(value)\n",
        "\n",
        "  print('\\n'.join([' | '.join([str(cell) for cell in row]) for row in local_maze]))"
      ]
    },
    {
      "cell_type": "code",
      "execution_count": null,
      "metadata": {
        "id": "Q3aNTpnhIDwx"
      },
      "outputs": [],
      "source": [
        "def find_path(maze, score, max_score, loc, barrier_locs=[]):\n",
        "  \"\"\"\n",
        "\n",
        "  \"\"\"\n",
        "  local_maze = copy.deepcopy(maze)\n",
        "  x, y = loc\n",
        "\n",
        "  score += 1\n",
        "  local_maze[x][y] = score\n",
        "  if score >= max_score - 1: #if we're just about done, just return the maze\n",
        "    return local_maze\n",
        "\n",
        "  open_positions = get_open_positions(local_maze) #find all open positions on the map\n",
        "  next_neighbors = current_neighbors(loc, open_positions) #check the open positions available to move to\n",
        "\n",
        "  ### Exit Cases ###\n",
        "\n",
        "  # Need to exit this branch if there's an orphaned block, or if more than one block has only one neighbor\n",
        "\n",
        "  single_neighbor = 0 #count for all spaces with single valid neighbors on the board\n",
        "\n",
        "  for position in open_positions: #check every location on the board for invalid / unsolvable set-ups\n",
        "    next_moves = current_neighbors(position, open_positions)\n",
        "    num_poss_moves = len(next_moves)\n",
        "\n",
        "    if num_poss_moves == 0: #if an open spot has no viable neighbors, it's an orphan\n",
        "      #print(\"Orphan block found. Score was:{}\".format(score))\n",
        "      return None #break this recursive loop\n",
        "\n",
        "    elif num_poss_moves == 1: #If an open spot has one viable neighbor, it could be the end spot\n",
        "      \n",
        "      # if the open spot is directly next to the current position on the board, \n",
        "      # it's not really single so don't increment (currently only set for when starting a board or completing one)\n",
        "      if position in next_neighbors and (score < 2 or score > 92): \n",
        "        pass #do nothing, it's fine\n",
        "      else: #if the open spot is not next to current position, it's a valid single spot\n",
        "        single_neighbor += 1\n",
        "      \n",
        "      # Before checking any more spaces, check how many blocks have a single neighbor\n",
        "      # If there are more than one, then the current board state is likely unsolvable. \n",
        "      # (should test this with more than 2 to see if that fixes some of the errors that occur from moving the piece first)\n",
        "      if single_neighbor > 2:\n",
        "        if score > 92: #if the score is almost at the end, feel free to exit\n",
        "          print(\"More than two Blocks with single neighbors found. Score was:{}\".format(score))\n",
        "          print_maze(local_maze)\n",
        "          #draw_matrix(local_maze, loc, generate_path(local_maze, loc))\n",
        "          export_maze(local_maze, barrier_locs)\n",
        "          print(\"Map has been printed\")        \n",
        "          raise Exception\n",
        "        #elif score < 3:\n",
        "        #  pass\n",
        "        else:\n",
        "          return None\n",
        "      else:\n",
        "        pass\n",
        "    else:\n",
        "      pass\n",
        "\n",
        "  #print(next_neighbors)\n",
        "  if next_neighbors == []:\n",
        "    print(\"No neighbors found. Score was:{}\".format(score))\n",
        "    return None\n",
        "  else:\n",
        "    ### BEGIN RECURSION ###\n",
        "    while len(next_neighbors) > 0:\n",
        "\n",
        "      #if the program has three viable paths, the best choice is to \n",
        "      #pick one at random to prevent potentially creating issues for itself\n",
        "      if len(next_neighbors) == 3: \n",
        "        random.shuffle(next_neighbors)\n",
        "      else:\n",
        "        pass \n",
        "      \n",
        "      next_loc = next_neighbors.pop() #get the next location the piece will move to\n",
        "      winner = find_path(local_maze, score, max_score, next_loc, barrier_locs) #recursively call yourself\n",
        "      if winner is not None:\n",
        "        print_maze(winner)\n",
        "        #draw_matrix(winner, loc, generate_path(winner, next_loc))  \n",
        "        export_maze(winner, barrier_locs)     \n",
        "        print(\"Map has been printed\")  \n",
        "        raise Exception\n",
        "      else:\n",
        "        #print(\"Branch end: Score: {}\".format(score))\n",
        "        pass"
      ]
    },
    {
      "cell_type": "code",
      "execution_count": null,
      "metadata": {
        "colab": {
          "background_save": true,
          "base_uri": "https://localhost:8080/"
        },
        "id": "nyRubBkjZ7z5",
        "outputId": "6b5b0432-407f-43e0-c23c-c364350590d1"
      },
      "outputs": [
        {
          "name": "stdout",
          "output_type": "stream",
          "text": [
            "Please input the locations where the blocks are located one at a time in X,Y format with \n",
            "\n",
            "              the top left of the board being (0,0) and the bottom right being (9,9). When you are done,\n",
            "\n",
            "              enter in '.' and I will begin running. Expect approximately 10 minutes for me to finish.\n",
            "\n",
            "              Ex. 1,3\n"
          ]
        }
      ],
      "source": [
        "### MAIN PART 1 - Get Barrier Locations and Generate Maze ###\n",
        "\n",
        "barrier_locs = get_barrier_locations()\n",
        "#barrier_locs = generate_random_barriers()\n",
        "barrier_locs.sort()\n",
        "\n",
        "maze, max_score = generate_maze(barrier_locs, 12)\n",
        "print(barrier_locs)\n",
        "print_maze(maze)\n",
        "print(\"\\nThe max score for this maze is: {}\\n\".format(max_score))"
      ]
    },
    {
      "cell_type": "code",
      "execution_count": null,
      "metadata": {
        "colab": {
          "base_uri": "https://localhost:8080/",
          "height": 380
        },
        "id": "XitvtgHWWRzy",
        "outputId": "8e04b07a-0b43-45e5-bc3a-ef25f9c7f5e2"
      },
      "outputs": [
        {
          "ename": "KeyboardInterrupt",
          "evalue": "ignored",
          "output_type": "error",
          "traceback": [
            "\u001b[0;31m---------------------------------------------------------------------------\u001b[0m",
            "\u001b[0;31mKeyboardInterrupt\u001b[0m                         Traceback (most recent call last)",
            "\u001b[0;32m<ipython-input-26-643f38eddadd>\u001b[0m in \u001b[0;36m<module>\u001b[0;34m()\u001b[0m\n\u001b[1;32m     10\u001b[0m   \u001b[0mbest_maze\u001b[0m \u001b[0;34m=\u001b[0m \u001b[0;34m[\u001b[0m\u001b[0;34m]\u001b[0m\u001b[0;34m\u001b[0m\u001b[0;34m\u001b[0m\u001b[0m\n\u001b[1;32m     11\u001b[0m   \u001b[0;32mtry\u001b[0m\u001b[0;34m:\u001b[0m\u001b[0;34m\u001b[0m\u001b[0;34m\u001b[0m\u001b[0m\n\u001b[0;32m---> 12\u001b[0;31m     \u001b[0msolution\u001b[0m \u001b[0;34m=\u001b[0m \u001b[0mfind_path\u001b[0m\u001b[0;34m(\u001b[0m\u001b[0mmaze\u001b[0m\u001b[0;34m,\u001b[0m \u001b[0;36m0\u001b[0m\u001b[0;34m,\u001b[0m \u001b[0mmax_score\u001b[0m\u001b[0;34m,\u001b[0m \u001b[0;34m(\u001b[0m\u001b[0;36m0\u001b[0m\u001b[0;34m,\u001b[0m\u001b[0;36m0\u001b[0m\u001b[0;34m)\u001b[0m\u001b[0;34m,\u001b[0m \u001b[0mbarrier_locs\u001b[0m\u001b[0;34m)\u001b[0m\u001b[0;34m\u001b[0m\u001b[0;34m\u001b[0m\u001b[0m\n\u001b[0m\u001b[1;32m     13\u001b[0m   \u001b[0;32mexcept\u001b[0m \u001b[0mException\u001b[0m \u001b[0;32mas\u001b[0m \u001b[0me\u001b[0m\u001b[0;34m:\u001b[0m\u001b[0;34m\u001b[0m\u001b[0;34m\u001b[0m\u001b[0m\n\u001b[1;32m     14\u001b[0m     \u001b[0mprint\u001b[0m\u001b[0;34m(\u001b[0m\u001b[0;34m\"I exited the loop. Solution was found! Otherwise, another issue occured {}\"\u001b[0m\u001b[0;34m.\u001b[0m\u001b[0mformat\u001b[0m\u001b[0;34m(\u001b[0m\u001b[0me\u001b[0m\u001b[0;34m)\u001b[0m\u001b[0;34m)\u001b[0m\u001b[0;34m\u001b[0m\u001b[0;34m\u001b[0m\u001b[0m\n",
            "\u001b[0;32m<ipython-input-16-f9946bad7a29>\u001b[0m in \u001b[0;36mfind_path\u001b[0;34m(maze, score, max_score, loc, barrier_locs)\u001b[0m\n\u001b[1;32m     73\u001b[0m \u001b[0;34m\u001b[0m\u001b[0m\n\u001b[1;32m     74\u001b[0m       \u001b[0mnext_loc\u001b[0m \u001b[0;34m=\u001b[0m \u001b[0mnext_neighbors\u001b[0m\u001b[0;34m.\u001b[0m\u001b[0mpop\u001b[0m\u001b[0;34m(\u001b[0m\u001b[0;34m)\u001b[0m \u001b[0;31m#get the next location the piece will move to\u001b[0m\u001b[0;34m\u001b[0m\u001b[0;34m\u001b[0m\u001b[0m\n\u001b[0;32m---> 75\u001b[0;31m       \u001b[0mwinner\u001b[0m \u001b[0;34m=\u001b[0m \u001b[0mfind_path\u001b[0m\u001b[0;34m(\u001b[0m\u001b[0mlocal_maze\u001b[0m\u001b[0;34m,\u001b[0m \u001b[0mscore\u001b[0m\u001b[0;34m,\u001b[0m \u001b[0mmax_score\u001b[0m\u001b[0;34m,\u001b[0m \u001b[0mnext_loc\u001b[0m\u001b[0;34m,\u001b[0m \u001b[0mbarrier_locs\u001b[0m\u001b[0;34m)\u001b[0m \u001b[0;31m#recursively call yourself\u001b[0m\u001b[0;34m\u001b[0m\u001b[0;34m\u001b[0m\u001b[0m\n\u001b[0m\u001b[1;32m     76\u001b[0m       \u001b[0;32mif\u001b[0m \u001b[0mwinner\u001b[0m \u001b[0;32mis\u001b[0m \u001b[0;32mnot\u001b[0m \u001b[0;32mNone\u001b[0m\u001b[0;34m:\u001b[0m\u001b[0;34m\u001b[0m\u001b[0;34m\u001b[0m\u001b[0m\n\u001b[1;32m     77\u001b[0m         \u001b[0mprint_maze\u001b[0m\u001b[0;34m(\u001b[0m\u001b[0mwinner\u001b[0m\u001b[0;34m)\u001b[0m\u001b[0;34m\u001b[0m\u001b[0;34m\u001b[0m\u001b[0m\n",
            "\u001b[0;32m<ipython-input-16-f9946bad7a29>\u001b[0m in \u001b[0;36mfind_path\u001b[0;34m(maze, score, max_score, loc, barrier_locs)\u001b[0m\n\u001b[1;32m     73\u001b[0m \u001b[0;34m\u001b[0m\u001b[0m\n\u001b[1;32m     74\u001b[0m       \u001b[0mnext_loc\u001b[0m \u001b[0;34m=\u001b[0m \u001b[0mnext_neighbors\u001b[0m\u001b[0;34m.\u001b[0m\u001b[0mpop\u001b[0m\u001b[0;34m(\u001b[0m\u001b[0;34m)\u001b[0m \u001b[0;31m#get the next location the piece will move to\u001b[0m\u001b[0;34m\u001b[0m\u001b[0;34m\u001b[0m\u001b[0m\n\u001b[0;32m---> 75\u001b[0;31m       \u001b[0mwinner\u001b[0m \u001b[0;34m=\u001b[0m \u001b[0mfind_path\u001b[0m\u001b[0;34m(\u001b[0m\u001b[0mlocal_maze\u001b[0m\u001b[0;34m,\u001b[0m \u001b[0mscore\u001b[0m\u001b[0;34m,\u001b[0m \u001b[0mmax_score\u001b[0m\u001b[0;34m,\u001b[0m \u001b[0mnext_loc\u001b[0m\u001b[0;34m,\u001b[0m \u001b[0mbarrier_locs\u001b[0m\u001b[0;34m)\u001b[0m \u001b[0;31m#recursively call yourself\u001b[0m\u001b[0;34m\u001b[0m\u001b[0;34m\u001b[0m\u001b[0m\n\u001b[0m\u001b[1;32m     76\u001b[0m       \u001b[0;32mif\u001b[0m \u001b[0mwinner\u001b[0m \u001b[0;32mis\u001b[0m \u001b[0;32mnot\u001b[0m \u001b[0;32mNone\u001b[0m\u001b[0;34m:\u001b[0m\u001b[0;34m\u001b[0m\u001b[0;34m\u001b[0m\u001b[0m\n\u001b[1;32m     77\u001b[0m         \u001b[0mprint_maze\u001b[0m\u001b[0;34m(\u001b[0m\u001b[0mwinner\u001b[0m\u001b[0;34m)\u001b[0m\u001b[0;34m\u001b[0m\u001b[0;34m\u001b[0m\u001b[0m\n",
            "\u001b[0;32m<ipython-input-16-f9946bad7a29>\u001b[0m in \u001b[0;36mfind_path\u001b[0;34m(maze, score, max_score, loc, barrier_locs)\u001b[0m\n\u001b[1;32m     73\u001b[0m \u001b[0;34m\u001b[0m\u001b[0m\n\u001b[1;32m     74\u001b[0m       \u001b[0mnext_loc\u001b[0m \u001b[0;34m=\u001b[0m \u001b[0mnext_neighbors\u001b[0m\u001b[0;34m.\u001b[0m\u001b[0mpop\u001b[0m\u001b[0;34m(\u001b[0m\u001b[0;34m)\u001b[0m \u001b[0;31m#get the next location the piece will move to\u001b[0m\u001b[0;34m\u001b[0m\u001b[0;34m\u001b[0m\u001b[0m\n\u001b[0;32m---> 75\u001b[0;31m       \u001b[0mwinner\u001b[0m \u001b[0;34m=\u001b[0m \u001b[0mfind_path\u001b[0m\u001b[0;34m(\u001b[0m\u001b[0mlocal_maze\u001b[0m\u001b[0;34m,\u001b[0m \u001b[0mscore\u001b[0m\u001b[0;34m,\u001b[0m \u001b[0mmax_score\u001b[0m\u001b[0;34m,\u001b[0m \u001b[0mnext_loc\u001b[0m\u001b[0;34m,\u001b[0m \u001b[0mbarrier_locs\u001b[0m\u001b[0;34m)\u001b[0m \u001b[0;31m#recursively call yourself\u001b[0m\u001b[0;34m\u001b[0m\u001b[0;34m\u001b[0m\u001b[0m\n\u001b[0m\u001b[1;32m     76\u001b[0m       \u001b[0;32mif\u001b[0m \u001b[0mwinner\u001b[0m \u001b[0;32mis\u001b[0m \u001b[0;32mnot\u001b[0m \u001b[0;32mNone\u001b[0m\u001b[0;34m:\u001b[0m\u001b[0;34m\u001b[0m\u001b[0;34m\u001b[0m\u001b[0m\n\u001b[1;32m     77\u001b[0m         \u001b[0mprint_maze\u001b[0m\u001b[0;34m(\u001b[0m\u001b[0mwinner\u001b[0m\u001b[0;34m)\u001b[0m\u001b[0;34m\u001b[0m\u001b[0;34m\u001b[0m\u001b[0m\n",
            "\u001b[0;32m<ipython-input-16-f9946bad7a29>\u001b[0m in \u001b[0;36mfind_path\u001b[0;34m(maze, score, max_score, loc, barrier_locs)\u001b[0m\n\u001b[1;32m     73\u001b[0m \u001b[0;34m\u001b[0m\u001b[0m\n\u001b[1;32m     74\u001b[0m       \u001b[0mnext_loc\u001b[0m \u001b[0;34m=\u001b[0m \u001b[0mnext_neighbors\u001b[0m\u001b[0;34m.\u001b[0m\u001b[0mpop\u001b[0m\u001b[0;34m(\u001b[0m\u001b[0;34m)\u001b[0m \u001b[0;31m#get the next location the piece will move to\u001b[0m\u001b[0;34m\u001b[0m\u001b[0;34m\u001b[0m\u001b[0m\n\u001b[0;32m---> 75\u001b[0;31m       \u001b[0mwinner\u001b[0m \u001b[0;34m=\u001b[0m \u001b[0mfind_path\u001b[0m\u001b[0;34m(\u001b[0m\u001b[0mlocal_maze\u001b[0m\u001b[0;34m,\u001b[0m \u001b[0mscore\u001b[0m\u001b[0;34m,\u001b[0m \u001b[0mmax_score\u001b[0m\u001b[0;34m,\u001b[0m \u001b[0mnext_loc\u001b[0m\u001b[0;34m,\u001b[0m \u001b[0mbarrier_locs\u001b[0m\u001b[0;34m)\u001b[0m \u001b[0;31m#recursively call yourself\u001b[0m\u001b[0;34m\u001b[0m\u001b[0;34m\u001b[0m\u001b[0m\n\u001b[0m\u001b[1;32m     76\u001b[0m       \u001b[0;32mif\u001b[0m \u001b[0mwinner\u001b[0m \u001b[0;32mis\u001b[0m \u001b[0;32mnot\u001b[0m \u001b[0;32mNone\u001b[0m\u001b[0;34m:\u001b[0m\u001b[0;34m\u001b[0m\u001b[0;34m\u001b[0m\u001b[0m\n\u001b[1;32m     77\u001b[0m         \u001b[0mprint_maze\u001b[0m\u001b[0;34m(\u001b[0m\u001b[0mwinner\u001b[0m\u001b[0;34m)\u001b[0m\u001b[0;34m\u001b[0m\u001b[0;34m\u001b[0m\u001b[0m\n",
            "\u001b[0;32m<ipython-input-16-f9946bad7a29>\u001b[0m in \u001b[0;36mfind_path\u001b[0;34m(maze, score, max_score, loc, barrier_locs)\u001b[0m\n\u001b[1;32m     73\u001b[0m \u001b[0;34m\u001b[0m\u001b[0m\n\u001b[1;32m     74\u001b[0m       \u001b[0mnext_loc\u001b[0m \u001b[0;34m=\u001b[0m \u001b[0mnext_neighbors\u001b[0m\u001b[0;34m.\u001b[0m\u001b[0mpop\u001b[0m\u001b[0;34m(\u001b[0m\u001b[0;34m)\u001b[0m \u001b[0;31m#get the next location the piece will move to\u001b[0m\u001b[0;34m\u001b[0m\u001b[0;34m\u001b[0m\u001b[0m\n\u001b[0;32m---> 75\u001b[0;31m       \u001b[0mwinner\u001b[0m \u001b[0;34m=\u001b[0m \u001b[0mfind_path\u001b[0m\u001b[0;34m(\u001b[0m\u001b[0mlocal_maze\u001b[0m\u001b[0;34m,\u001b[0m \u001b[0mscore\u001b[0m\u001b[0;34m,\u001b[0m \u001b[0mmax_score\u001b[0m\u001b[0;34m,\u001b[0m \u001b[0mnext_loc\u001b[0m\u001b[0;34m,\u001b[0m \u001b[0mbarrier_locs\u001b[0m\u001b[0;34m)\u001b[0m \u001b[0;31m#recursively call yourself\u001b[0m\u001b[0;34m\u001b[0m\u001b[0;34m\u001b[0m\u001b[0m\n\u001b[0m\u001b[1;32m     76\u001b[0m       \u001b[0;32mif\u001b[0m \u001b[0mwinner\u001b[0m \u001b[0;32mis\u001b[0m \u001b[0;32mnot\u001b[0m \u001b[0;32mNone\u001b[0m\u001b[0;34m:\u001b[0m\u001b[0;34m\u001b[0m\u001b[0;34m\u001b[0m\u001b[0m\n\u001b[1;32m     77\u001b[0m         \u001b[0mprint_maze\u001b[0m\u001b[0;34m(\u001b[0m\u001b[0mwinner\u001b[0m\u001b[0;34m)\u001b[0m\u001b[0;34m\u001b[0m\u001b[0;34m\u001b[0m\u001b[0m\n",
            "\u001b[0;32m<ipython-input-16-f9946bad7a29>\u001b[0m in \u001b[0;36mfind_path\u001b[0;34m(maze, score, max_score, loc, barrier_locs)\u001b[0m\n\u001b[1;32m     73\u001b[0m \u001b[0;34m\u001b[0m\u001b[0m\n\u001b[1;32m     74\u001b[0m       \u001b[0mnext_loc\u001b[0m \u001b[0;34m=\u001b[0m \u001b[0mnext_neighbors\u001b[0m\u001b[0;34m.\u001b[0m\u001b[0mpop\u001b[0m\u001b[0;34m(\u001b[0m\u001b[0;34m)\u001b[0m \u001b[0;31m#get the next location the piece will move to\u001b[0m\u001b[0;34m\u001b[0m\u001b[0;34m\u001b[0m\u001b[0m\n\u001b[0;32m---> 75\u001b[0;31m       \u001b[0mwinner\u001b[0m \u001b[0;34m=\u001b[0m \u001b[0mfind_path\u001b[0m\u001b[0;34m(\u001b[0m\u001b[0mlocal_maze\u001b[0m\u001b[0;34m,\u001b[0m \u001b[0mscore\u001b[0m\u001b[0;34m,\u001b[0m \u001b[0mmax_score\u001b[0m\u001b[0;34m,\u001b[0m \u001b[0mnext_loc\u001b[0m\u001b[0;34m,\u001b[0m \u001b[0mbarrier_locs\u001b[0m\u001b[0;34m)\u001b[0m \u001b[0;31m#recursively call yourself\u001b[0m\u001b[0;34m\u001b[0m\u001b[0;34m\u001b[0m\u001b[0m\n\u001b[0m\u001b[1;32m     76\u001b[0m       \u001b[0;32mif\u001b[0m \u001b[0mwinner\u001b[0m \u001b[0;32mis\u001b[0m \u001b[0;32mnot\u001b[0m \u001b[0;32mNone\u001b[0m\u001b[0;34m:\u001b[0m\u001b[0;34m\u001b[0m\u001b[0;34m\u001b[0m\u001b[0m\n\u001b[1;32m     77\u001b[0m         \u001b[0mprint_maze\u001b[0m\u001b[0;34m(\u001b[0m\u001b[0mwinner\u001b[0m\u001b[0;34m)\u001b[0m\u001b[0;34m\u001b[0m\u001b[0;34m\u001b[0m\u001b[0m\n",
            "\u001b[0;32m<ipython-input-16-f9946bad7a29>\u001b[0m in \u001b[0;36mfind_path\u001b[0;34m(maze, score, max_score, loc, barrier_locs)\u001b[0m\n\u001b[1;32m     73\u001b[0m \u001b[0;34m\u001b[0m\u001b[0m\n\u001b[1;32m     74\u001b[0m       \u001b[0mnext_loc\u001b[0m \u001b[0;34m=\u001b[0m \u001b[0mnext_neighbors\u001b[0m\u001b[0;34m.\u001b[0m\u001b[0mpop\u001b[0m\u001b[0;34m(\u001b[0m\u001b[0;34m)\u001b[0m \u001b[0;31m#get the next location the piece will move to\u001b[0m\u001b[0;34m\u001b[0m\u001b[0;34m\u001b[0m\u001b[0m\n\u001b[0;32m---> 75\u001b[0;31m       \u001b[0mwinner\u001b[0m \u001b[0;34m=\u001b[0m \u001b[0mfind_path\u001b[0m\u001b[0;34m(\u001b[0m\u001b[0mlocal_maze\u001b[0m\u001b[0;34m,\u001b[0m \u001b[0mscore\u001b[0m\u001b[0;34m,\u001b[0m \u001b[0mmax_score\u001b[0m\u001b[0;34m,\u001b[0m \u001b[0mnext_loc\u001b[0m\u001b[0;34m,\u001b[0m \u001b[0mbarrier_locs\u001b[0m\u001b[0;34m)\u001b[0m \u001b[0;31m#recursively call yourself\u001b[0m\u001b[0;34m\u001b[0m\u001b[0;34m\u001b[0m\u001b[0m\n\u001b[0m\u001b[1;32m     76\u001b[0m       \u001b[0;32mif\u001b[0m \u001b[0mwinner\u001b[0m \u001b[0;32mis\u001b[0m \u001b[0;32mnot\u001b[0m \u001b[0;32mNone\u001b[0m\u001b[0;34m:\u001b[0m\u001b[0;34m\u001b[0m\u001b[0;34m\u001b[0m\u001b[0m\n\u001b[1;32m     77\u001b[0m         \u001b[0mprint_maze\u001b[0m\u001b[0;34m(\u001b[0m\u001b[0mwinner\u001b[0m\u001b[0;34m)\u001b[0m\u001b[0;34m\u001b[0m\u001b[0;34m\u001b[0m\u001b[0m\n",
            "\u001b[0;32m<ipython-input-16-f9946bad7a29>\u001b[0m in \u001b[0;36mfind_path\u001b[0;34m(maze, score, max_score, loc, barrier_locs)\u001b[0m\n\u001b[1;32m     73\u001b[0m \u001b[0;34m\u001b[0m\u001b[0m\n\u001b[1;32m     74\u001b[0m       \u001b[0mnext_loc\u001b[0m \u001b[0;34m=\u001b[0m \u001b[0mnext_neighbors\u001b[0m\u001b[0;34m.\u001b[0m\u001b[0mpop\u001b[0m\u001b[0;34m(\u001b[0m\u001b[0;34m)\u001b[0m \u001b[0;31m#get the next location the piece will move to\u001b[0m\u001b[0;34m\u001b[0m\u001b[0;34m\u001b[0m\u001b[0m\n\u001b[0;32m---> 75\u001b[0;31m       \u001b[0mwinner\u001b[0m \u001b[0;34m=\u001b[0m \u001b[0mfind_path\u001b[0m\u001b[0;34m(\u001b[0m\u001b[0mlocal_maze\u001b[0m\u001b[0;34m,\u001b[0m \u001b[0mscore\u001b[0m\u001b[0;34m,\u001b[0m \u001b[0mmax_score\u001b[0m\u001b[0;34m,\u001b[0m \u001b[0mnext_loc\u001b[0m\u001b[0;34m,\u001b[0m \u001b[0mbarrier_locs\u001b[0m\u001b[0;34m)\u001b[0m \u001b[0;31m#recursively call yourself\u001b[0m\u001b[0;34m\u001b[0m\u001b[0;34m\u001b[0m\u001b[0m\n\u001b[0m\u001b[1;32m     76\u001b[0m       \u001b[0;32mif\u001b[0m \u001b[0mwinner\u001b[0m \u001b[0;32mis\u001b[0m \u001b[0;32mnot\u001b[0m \u001b[0;32mNone\u001b[0m\u001b[0;34m:\u001b[0m\u001b[0;34m\u001b[0m\u001b[0;34m\u001b[0m\u001b[0m\n\u001b[1;32m     77\u001b[0m         \u001b[0mprint_maze\u001b[0m\u001b[0;34m(\u001b[0m\u001b[0mwinner\u001b[0m\u001b[0;34m)\u001b[0m\u001b[0;34m\u001b[0m\u001b[0;34m\u001b[0m\u001b[0m\n",
            "\u001b[0;32m<ipython-input-16-f9946bad7a29>\u001b[0m in \u001b[0;36mfind_path\u001b[0;34m(maze, score, max_score, loc, barrier_locs)\u001b[0m\n\u001b[1;32m     73\u001b[0m \u001b[0;34m\u001b[0m\u001b[0m\n\u001b[1;32m     74\u001b[0m       \u001b[0mnext_loc\u001b[0m \u001b[0;34m=\u001b[0m \u001b[0mnext_neighbors\u001b[0m\u001b[0;34m.\u001b[0m\u001b[0mpop\u001b[0m\u001b[0;34m(\u001b[0m\u001b[0;34m)\u001b[0m \u001b[0;31m#get the next location the piece will move to\u001b[0m\u001b[0;34m\u001b[0m\u001b[0;34m\u001b[0m\u001b[0m\n\u001b[0;32m---> 75\u001b[0;31m       \u001b[0mwinner\u001b[0m \u001b[0;34m=\u001b[0m \u001b[0mfind_path\u001b[0m\u001b[0;34m(\u001b[0m\u001b[0mlocal_maze\u001b[0m\u001b[0;34m,\u001b[0m \u001b[0mscore\u001b[0m\u001b[0;34m,\u001b[0m \u001b[0mmax_score\u001b[0m\u001b[0;34m,\u001b[0m \u001b[0mnext_loc\u001b[0m\u001b[0;34m,\u001b[0m \u001b[0mbarrier_locs\u001b[0m\u001b[0;34m)\u001b[0m \u001b[0;31m#recursively call yourself\u001b[0m\u001b[0;34m\u001b[0m\u001b[0;34m\u001b[0m\u001b[0m\n\u001b[0m\u001b[1;32m     76\u001b[0m       \u001b[0;32mif\u001b[0m \u001b[0mwinner\u001b[0m \u001b[0;32mis\u001b[0m \u001b[0;32mnot\u001b[0m \u001b[0;32mNone\u001b[0m\u001b[0;34m:\u001b[0m\u001b[0;34m\u001b[0m\u001b[0;34m\u001b[0m\u001b[0m\n\u001b[1;32m     77\u001b[0m         \u001b[0mprint_maze\u001b[0m\u001b[0;34m(\u001b[0m\u001b[0mwinner\u001b[0m\u001b[0;34m)\u001b[0m\u001b[0;34m\u001b[0m\u001b[0;34m\u001b[0m\u001b[0m\n",
            "\u001b[0;32m<ipython-input-16-f9946bad7a29>\u001b[0m in \u001b[0;36mfind_path\u001b[0;34m(maze, score, max_score, loc, barrier_locs)\u001b[0m\n\u001b[1;32m     73\u001b[0m \u001b[0;34m\u001b[0m\u001b[0m\n\u001b[1;32m     74\u001b[0m       \u001b[0mnext_loc\u001b[0m \u001b[0;34m=\u001b[0m \u001b[0mnext_neighbors\u001b[0m\u001b[0;34m.\u001b[0m\u001b[0mpop\u001b[0m\u001b[0;34m(\u001b[0m\u001b[0;34m)\u001b[0m \u001b[0;31m#get the next location the piece will move to\u001b[0m\u001b[0;34m\u001b[0m\u001b[0;34m\u001b[0m\u001b[0m\n\u001b[0;32m---> 75\u001b[0;31m       \u001b[0mwinner\u001b[0m \u001b[0;34m=\u001b[0m \u001b[0mfind_path\u001b[0m\u001b[0;34m(\u001b[0m\u001b[0mlocal_maze\u001b[0m\u001b[0;34m,\u001b[0m \u001b[0mscore\u001b[0m\u001b[0;34m,\u001b[0m \u001b[0mmax_score\u001b[0m\u001b[0;34m,\u001b[0m \u001b[0mnext_loc\u001b[0m\u001b[0;34m,\u001b[0m \u001b[0mbarrier_locs\u001b[0m\u001b[0;34m)\u001b[0m \u001b[0;31m#recursively call yourself\u001b[0m\u001b[0;34m\u001b[0m\u001b[0;34m\u001b[0m\u001b[0m\n\u001b[0m\u001b[1;32m     76\u001b[0m       \u001b[0;32mif\u001b[0m \u001b[0mwinner\u001b[0m \u001b[0;32mis\u001b[0m \u001b[0;32mnot\u001b[0m \u001b[0;32mNone\u001b[0m\u001b[0;34m:\u001b[0m\u001b[0;34m\u001b[0m\u001b[0;34m\u001b[0m\u001b[0m\n\u001b[1;32m     77\u001b[0m         \u001b[0mprint_maze\u001b[0m\u001b[0;34m(\u001b[0m\u001b[0mwinner\u001b[0m\u001b[0;34m)\u001b[0m\u001b[0;34m\u001b[0m\u001b[0;34m\u001b[0m\u001b[0m\n",
            "\u001b[0;32m<ipython-input-16-f9946bad7a29>\u001b[0m in \u001b[0;36mfind_path\u001b[0;34m(maze, score, max_score, loc, barrier_locs)\u001b[0m\n\u001b[1;32m     73\u001b[0m \u001b[0;34m\u001b[0m\u001b[0m\n\u001b[1;32m     74\u001b[0m       \u001b[0mnext_loc\u001b[0m \u001b[0;34m=\u001b[0m \u001b[0mnext_neighbors\u001b[0m\u001b[0;34m.\u001b[0m\u001b[0mpop\u001b[0m\u001b[0;34m(\u001b[0m\u001b[0;34m)\u001b[0m \u001b[0;31m#get the next location the piece will move to\u001b[0m\u001b[0;34m\u001b[0m\u001b[0;34m\u001b[0m\u001b[0m\n\u001b[0;32m---> 75\u001b[0;31m       \u001b[0mwinner\u001b[0m \u001b[0;34m=\u001b[0m \u001b[0mfind_path\u001b[0m\u001b[0;34m(\u001b[0m\u001b[0mlocal_maze\u001b[0m\u001b[0;34m,\u001b[0m \u001b[0mscore\u001b[0m\u001b[0;34m,\u001b[0m \u001b[0mmax_score\u001b[0m\u001b[0;34m,\u001b[0m \u001b[0mnext_loc\u001b[0m\u001b[0;34m,\u001b[0m \u001b[0mbarrier_locs\u001b[0m\u001b[0;34m)\u001b[0m \u001b[0;31m#recursively call yourself\u001b[0m\u001b[0;34m\u001b[0m\u001b[0;34m\u001b[0m\u001b[0m\n\u001b[0m\u001b[1;32m     76\u001b[0m       \u001b[0;32mif\u001b[0m \u001b[0mwinner\u001b[0m \u001b[0;32mis\u001b[0m \u001b[0;32mnot\u001b[0m \u001b[0;32mNone\u001b[0m\u001b[0;34m:\u001b[0m\u001b[0;34m\u001b[0m\u001b[0;34m\u001b[0m\u001b[0m\n\u001b[1;32m     77\u001b[0m         \u001b[0mprint_maze\u001b[0m\u001b[0;34m(\u001b[0m\u001b[0mwinner\u001b[0m\u001b[0;34m)\u001b[0m\u001b[0;34m\u001b[0m\u001b[0;34m\u001b[0m\u001b[0m\n",
            "\u001b[0;32m<ipython-input-16-f9946bad7a29>\u001b[0m in \u001b[0;36mfind_path\u001b[0;34m(maze, score, max_score, loc, barrier_locs)\u001b[0m\n\u001b[1;32m     73\u001b[0m \u001b[0;34m\u001b[0m\u001b[0m\n\u001b[1;32m     74\u001b[0m       \u001b[0mnext_loc\u001b[0m \u001b[0;34m=\u001b[0m \u001b[0mnext_neighbors\u001b[0m\u001b[0;34m.\u001b[0m\u001b[0mpop\u001b[0m\u001b[0;34m(\u001b[0m\u001b[0;34m)\u001b[0m \u001b[0;31m#get the next location the piece will move to\u001b[0m\u001b[0;34m\u001b[0m\u001b[0;34m\u001b[0m\u001b[0m\n\u001b[0;32m---> 75\u001b[0;31m       \u001b[0mwinner\u001b[0m \u001b[0;34m=\u001b[0m \u001b[0mfind_path\u001b[0m\u001b[0;34m(\u001b[0m\u001b[0mlocal_maze\u001b[0m\u001b[0;34m,\u001b[0m \u001b[0mscore\u001b[0m\u001b[0;34m,\u001b[0m \u001b[0mmax_score\u001b[0m\u001b[0;34m,\u001b[0m \u001b[0mnext_loc\u001b[0m\u001b[0;34m,\u001b[0m \u001b[0mbarrier_locs\u001b[0m\u001b[0;34m)\u001b[0m \u001b[0;31m#recursively call yourself\u001b[0m\u001b[0;34m\u001b[0m\u001b[0;34m\u001b[0m\u001b[0m\n\u001b[0m\u001b[1;32m     76\u001b[0m       \u001b[0;32mif\u001b[0m \u001b[0mwinner\u001b[0m \u001b[0;32mis\u001b[0m \u001b[0;32mnot\u001b[0m \u001b[0;32mNone\u001b[0m\u001b[0;34m:\u001b[0m\u001b[0;34m\u001b[0m\u001b[0;34m\u001b[0m\u001b[0m\n\u001b[1;32m     77\u001b[0m         \u001b[0mprint_maze\u001b[0m\u001b[0;34m(\u001b[0m\u001b[0mwinner\u001b[0m\u001b[0;34m)\u001b[0m\u001b[0;34m\u001b[0m\u001b[0;34m\u001b[0m\u001b[0m\n",
            "\u001b[0;32m<ipython-input-16-f9946bad7a29>\u001b[0m in \u001b[0;36mfind_path\u001b[0;34m(maze, score, max_score, loc, barrier_locs)\u001b[0m\n\u001b[1;32m     73\u001b[0m \u001b[0;34m\u001b[0m\u001b[0m\n\u001b[1;32m     74\u001b[0m       \u001b[0mnext_loc\u001b[0m \u001b[0;34m=\u001b[0m \u001b[0mnext_neighbors\u001b[0m\u001b[0;34m.\u001b[0m\u001b[0mpop\u001b[0m\u001b[0;34m(\u001b[0m\u001b[0;34m)\u001b[0m \u001b[0;31m#get the next location the piece will move to\u001b[0m\u001b[0;34m\u001b[0m\u001b[0;34m\u001b[0m\u001b[0m\n\u001b[0;32m---> 75\u001b[0;31m       \u001b[0mwinner\u001b[0m \u001b[0;34m=\u001b[0m \u001b[0mfind_path\u001b[0m\u001b[0;34m(\u001b[0m\u001b[0mlocal_maze\u001b[0m\u001b[0;34m,\u001b[0m \u001b[0mscore\u001b[0m\u001b[0;34m,\u001b[0m \u001b[0mmax_score\u001b[0m\u001b[0;34m,\u001b[0m \u001b[0mnext_loc\u001b[0m\u001b[0;34m,\u001b[0m \u001b[0mbarrier_locs\u001b[0m\u001b[0;34m)\u001b[0m \u001b[0;31m#recursively call yourself\u001b[0m\u001b[0;34m\u001b[0m\u001b[0;34m\u001b[0m\u001b[0m\n\u001b[0m\u001b[1;32m     76\u001b[0m       \u001b[0;32mif\u001b[0m \u001b[0mwinner\u001b[0m \u001b[0;32mis\u001b[0m \u001b[0;32mnot\u001b[0m \u001b[0;32mNone\u001b[0m\u001b[0;34m:\u001b[0m\u001b[0;34m\u001b[0m\u001b[0;34m\u001b[0m\u001b[0m\n\u001b[1;32m     77\u001b[0m         \u001b[0mprint_maze\u001b[0m\u001b[0;34m(\u001b[0m\u001b[0mwinner\u001b[0m\u001b[0;34m)\u001b[0m\u001b[0;34m\u001b[0m\u001b[0;34m\u001b[0m\u001b[0m\n",
            "\u001b[0;32m<ipython-input-16-f9946bad7a29>\u001b[0m in \u001b[0;36mfind_path\u001b[0;34m(maze, score, max_score, loc, barrier_locs)\u001b[0m\n\u001b[1;32m     73\u001b[0m \u001b[0;34m\u001b[0m\u001b[0m\n\u001b[1;32m     74\u001b[0m       \u001b[0mnext_loc\u001b[0m \u001b[0;34m=\u001b[0m \u001b[0mnext_neighbors\u001b[0m\u001b[0;34m.\u001b[0m\u001b[0mpop\u001b[0m\u001b[0;34m(\u001b[0m\u001b[0;34m)\u001b[0m \u001b[0;31m#get the next location the piece will move to\u001b[0m\u001b[0;34m\u001b[0m\u001b[0;34m\u001b[0m\u001b[0m\n\u001b[0;32m---> 75\u001b[0;31m       \u001b[0mwinner\u001b[0m \u001b[0;34m=\u001b[0m \u001b[0mfind_path\u001b[0m\u001b[0;34m(\u001b[0m\u001b[0mlocal_maze\u001b[0m\u001b[0;34m,\u001b[0m \u001b[0mscore\u001b[0m\u001b[0;34m,\u001b[0m \u001b[0mmax_score\u001b[0m\u001b[0;34m,\u001b[0m \u001b[0mnext_loc\u001b[0m\u001b[0;34m,\u001b[0m \u001b[0mbarrier_locs\u001b[0m\u001b[0;34m)\u001b[0m \u001b[0;31m#recursively call yourself\u001b[0m\u001b[0;34m\u001b[0m\u001b[0;34m\u001b[0m\u001b[0m\n\u001b[0m\u001b[1;32m     76\u001b[0m       \u001b[0;32mif\u001b[0m \u001b[0mwinner\u001b[0m \u001b[0;32mis\u001b[0m \u001b[0;32mnot\u001b[0m \u001b[0;32mNone\u001b[0m\u001b[0;34m:\u001b[0m\u001b[0;34m\u001b[0m\u001b[0;34m\u001b[0m\u001b[0m\n\u001b[1;32m     77\u001b[0m         \u001b[0mprint_maze\u001b[0m\u001b[0;34m(\u001b[0m\u001b[0mwinner\u001b[0m\u001b[0;34m)\u001b[0m\u001b[0;34m\u001b[0m\u001b[0;34m\u001b[0m\u001b[0m\n",
            "\u001b[0;32m<ipython-input-16-f9946bad7a29>\u001b[0m in \u001b[0;36mfind_path\u001b[0;34m(maze, score, max_score, loc, barrier_locs)\u001b[0m\n\u001b[1;32m     73\u001b[0m \u001b[0;34m\u001b[0m\u001b[0m\n\u001b[1;32m     74\u001b[0m       \u001b[0mnext_loc\u001b[0m \u001b[0;34m=\u001b[0m \u001b[0mnext_neighbors\u001b[0m\u001b[0;34m.\u001b[0m\u001b[0mpop\u001b[0m\u001b[0;34m(\u001b[0m\u001b[0;34m)\u001b[0m \u001b[0;31m#get the next location the piece will move to\u001b[0m\u001b[0;34m\u001b[0m\u001b[0;34m\u001b[0m\u001b[0m\n\u001b[0;32m---> 75\u001b[0;31m       \u001b[0mwinner\u001b[0m \u001b[0;34m=\u001b[0m \u001b[0mfind_path\u001b[0m\u001b[0;34m(\u001b[0m\u001b[0mlocal_maze\u001b[0m\u001b[0;34m,\u001b[0m \u001b[0mscore\u001b[0m\u001b[0;34m,\u001b[0m \u001b[0mmax_score\u001b[0m\u001b[0;34m,\u001b[0m \u001b[0mnext_loc\u001b[0m\u001b[0;34m,\u001b[0m \u001b[0mbarrier_locs\u001b[0m\u001b[0;34m)\u001b[0m \u001b[0;31m#recursively call yourself\u001b[0m\u001b[0;34m\u001b[0m\u001b[0;34m\u001b[0m\u001b[0m\n\u001b[0m\u001b[1;32m     76\u001b[0m       \u001b[0;32mif\u001b[0m \u001b[0mwinner\u001b[0m \u001b[0;32mis\u001b[0m \u001b[0;32mnot\u001b[0m \u001b[0;32mNone\u001b[0m\u001b[0;34m:\u001b[0m\u001b[0;34m\u001b[0m\u001b[0;34m\u001b[0m\u001b[0m\n\u001b[1;32m     77\u001b[0m         \u001b[0mprint_maze\u001b[0m\u001b[0;34m(\u001b[0m\u001b[0mwinner\u001b[0m\u001b[0;34m)\u001b[0m\u001b[0;34m\u001b[0m\u001b[0;34m\u001b[0m\u001b[0m\n",
            "\u001b[0;32m<ipython-input-16-f9946bad7a29>\u001b[0m in \u001b[0;36mfind_path\u001b[0;34m(maze, score, max_score, loc, barrier_locs)\u001b[0m\n\u001b[1;32m     73\u001b[0m \u001b[0;34m\u001b[0m\u001b[0m\n\u001b[1;32m     74\u001b[0m       \u001b[0mnext_loc\u001b[0m \u001b[0;34m=\u001b[0m \u001b[0mnext_neighbors\u001b[0m\u001b[0;34m.\u001b[0m\u001b[0mpop\u001b[0m\u001b[0;34m(\u001b[0m\u001b[0;34m)\u001b[0m \u001b[0;31m#get the next location the piece will move to\u001b[0m\u001b[0;34m\u001b[0m\u001b[0;34m\u001b[0m\u001b[0m\n\u001b[0;32m---> 75\u001b[0;31m       \u001b[0mwinner\u001b[0m \u001b[0;34m=\u001b[0m \u001b[0mfind_path\u001b[0m\u001b[0;34m(\u001b[0m\u001b[0mlocal_maze\u001b[0m\u001b[0;34m,\u001b[0m \u001b[0mscore\u001b[0m\u001b[0;34m,\u001b[0m \u001b[0mmax_score\u001b[0m\u001b[0;34m,\u001b[0m \u001b[0mnext_loc\u001b[0m\u001b[0;34m,\u001b[0m \u001b[0mbarrier_locs\u001b[0m\u001b[0;34m)\u001b[0m \u001b[0;31m#recursively call yourself\u001b[0m\u001b[0;34m\u001b[0m\u001b[0;34m\u001b[0m\u001b[0m\n\u001b[0m\u001b[1;32m     76\u001b[0m       \u001b[0;32mif\u001b[0m \u001b[0mwinner\u001b[0m \u001b[0;32mis\u001b[0m \u001b[0;32mnot\u001b[0m \u001b[0;32mNone\u001b[0m\u001b[0;34m:\u001b[0m\u001b[0;34m\u001b[0m\u001b[0;34m\u001b[0m\u001b[0m\n\u001b[1;32m     77\u001b[0m         \u001b[0mprint_maze\u001b[0m\u001b[0;34m(\u001b[0m\u001b[0mwinner\u001b[0m\u001b[0;34m)\u001b[0m\u001b[0;34m\u001b[0m\u001b[0;34m\u001b[0m\u001b[0m\n",
            "\u001b[0;32m<ipython-input-16-f9946bad7a29>\u001b[0m in \u001b[0;36mfind_path\u001b[0;34m(maze, score, max_score, loc, barrier_locs)\u001b[0m\n\u001b[1;32m     73\u001b[0m \u001b[0;34m\u001b[0m\u001b[0m\n\u001b[1;32m     74\u001b[0m       \u001b[0mnext_loc\u001b[0m \u001b[0;34m=\u001b[0m \u001b[0mnext_neighbors\u001b[0m\u001b[0;34m.\u001b[0m\u001b[0mpop\u001b[0m\u001b[0;34m(\u001b[0m\u001b[0;34m)\u001b[0m \u001b[0;31m#get the next location the piece will move to\u001b[0m\u001b[0;34m\u001b[0m\u001b[0;34m\u001b[0m\u001b[0m\n\u001b[0;32m---> 75\u001b[0;31m       \u001b[0mwinner\u001b[0m \u001b[0;34m=\u001b[0m \u001b[0mfind_path\u001b[0m\u001b[0;34m(\u001b[0m\u001b[0mlocal_maze\u001b[0m\u001b[0;34m,\u001b[0m \u001b[0mscore\u001b[0m\u001b[0;34m,\u001b[0m \u001b[0mmax_score\u001b[0m\u001b[0;34m,\u001b[0m \u001b[0mnext_loc\u001b[0m\u001b[0;34m,\u001b[0m \u001b[0mbarrier_locs\u001b[0m\u001b[0;34m)\u001b[0m \u001b[0;31m#recursively call yourself\u001b[0m\u001b[0;34m\u001b[0m\u001b[0;34m\u001b[0m\u001b[0m\n\u001b[0m\u001b[1;32m     76\u001b[0m       \u001b[0;32mif\u001b[0m \u001b[0mwinner\u001b[0m \u001b[0;32mis\u001b[0m \u001b[0;32mnot\u001b[0m \u001b[0;32mNone\u001b[0m\u001b[0;34m:\u001b[0m\u001b[0;34m\u001b[0m\u001b[0;34m\u001b[0m\u001b[0m\n\u001b[1;32m     77\u001b[0m         \u001b[0mprint_maze\u001b[0m\u001b[0;34m(\u001b[0m\u001b[0mwinner\u001b[0m\u001b[0;34m)\u001b[0m\u001b[0;34m\u001b[0m\u001b[0;34m\u001b[0m\u001b[0m\n",
            "\u001b[0;32m<ipython-input-16-f9946bad7a29>\u001b[0m in \u001b[0;36mfind_path\u001b[0;34m(maze, score, max_score, loc, barrier_locs)\u001b[0m\n\u001b[1;32m     73\u001b[0m \u001b[0;34m\u001b[0m\u001b[0m\n\u001b[1;32m     74\u001b[0m       \u001b[0mnext_loc\u001b[0m \u001b[0;34m=\u001b[0m \u001b[0mnext_neighbors\u001b[0m\u001b[0;34m.\u001b[0m\u001b[0mpop\u001b[0m\u001b[0;34m(\u001b[0m\u001b[0;34m)\u001b[0m \u001b[0;31m#get the next location the piece will move to\u001b[0m\u001b[0;34m\u001b[0m\u001b[0;34m\u001b[0m\u001b[0m\n\u001b[0;32m---> 75\u001b[0;31m       \u001b[0mwinner\u001b[0m \u001b[0;34m=\u001b[0m \u001b[0mfind_path\u001b[0m\u001b[0;34m(\u001b[0m\u001b[0mlocal_maze\u001b[0m\u001b[0;34m,\u001b[0m \u001b[0mscore\u001b[0m\u001b[0;34m,\u001b[0m \u001b[0mmax_score\u001b[0m\u001b[0;34m,\u001b[0m \u001b[0mnext_loc\u001b[0m\u001b[0;34m,\u001b[0m \u001b[0mbarrier_locs\u001b[0m\u001b[0;34m)\u001b[0m \u001b[0;31m#recursively call yourself\u001b[0m\u001b[0;34m\u001b[0m\u001b[0;34m\u001b[0m\u001b[0m\n\u001b[0m\u001b[1;32m     76\u001b[0m       \u001b[0;32mif\u001b[0m \u001b[0mwinner\u001b[0m \u001b[0;32mis\u001b[0m \u001b[0;32mnot\u001b[0m \u001b[0;32mNone\u001b[0m\u001b[0;34m:\u001b[0m\u001b[0;34m\u001b[0m\u001b[0;34m\u001b[0m\u001b[0m\n\u001b[1;32m     77\u001b[0m         \u001b[0mprint_maze\u001b[0m\u001b[0;34m(\u001b[0m\u001b[0mwinner\u001b[0m\u001b[0;34m)\u001b[0m\u001b[0;34m\u001b[0m\u001b[0;34m\u001b[0m\u001b[0m\n",
            "\u001b[0;32m<ipython-input-16-f9946bad7a29>\u001b[0m in \u001b[0;36mfind_path\u001b[0;34m(maze, score, max_score, loc, barrier_locs)\u001b[0m\n\u001b[1;32m     73\u001b[0m \u001b[0;34m\u001b[0m\u001b[0m\n\u001b[1;32m     74\u001b[0m       \u001b[0mnext_loc\u001b[0m \u001b[0;34m=\u001b[0m \u001b[0mnext_neighbors\u001b[0m\u001b[0;34m.\u001b[0m\u001b[0mpop\u001b[0m\u001b[0;34m(\u001b[0m\u001b[0;34m)\u001b[0m \u001b[0;31m#get the next location the piece will move to\u001b[0m\u001b[0;34m\u001b[0m\u001b[0;34m\u001b[0m\u001b[0m\n\u001b[0;32m---> 75\u001b[0;31m       \u001b[0mwinner\u001b[0m \u001b[0;34m=\u001b[0m \u001b[0mfind_path\u001b[0m\u001b[0;34m(\u001b[0m\u001b[0mlocal_maze\u001b[0m\u001b[0;34m,\u001b[0m \u001b[0mscore\u001b[0m\u001b[0;34m,\u001b[0m \u001b[0mmax_score\u001b[0m\u001b[0;34m,\u001b[0m \u001b[0mnext_loc\u001b[0m\u001b[0;34m,\u001b[0m \u001b[0mbarrier_locs\u001b[0m\u001b[0;34m)\u001b[0m \u001b[0;31m#recursively call yourself\u001b[0m\u001b[0;34m\u001b[0m\u001b[0;34m\u001b[0m\u001b[0m\n\u001b[0m\u001b[1;32m     76\u001b[0m       \u001b[0;32mif\u001b[0m \u001b[0mwinner\u001b[0m \u001b[0;32mis\u001b[0m \u001b[0;32mnot\u001b[0m \u001b[0;32mNone\u001b[0m\u001b[0;34m:\u001b[0m\u001b[0;34m\u001b[0m\u001b[0;34m\u001b[0m\u001b[0m\n\u001b[1;32m     77\u001b[0m         \u001b[0mprint_maze\u001b[0m\u001b[0;34m(\u001b[0m\u001b[0mwinner\u001b[0m\u001b[0;34m)\u001b[0m\u001b[0;34m\u001b[0m\u001b[0;34m\u001b[0m\u001b[0m\n",
            "\u001b[0;32m<ipython-input-16-f9946bad7a29>\u001b[0m in \u001b[0;36mfind_path\u001b[0;34m(maze, score, max_score, loc, barrier_locs)\u001b[0m\n\u001b[1;32m     73\u001b[0m \u001b[0;34m\u001b[0m\u001b[0m\n\u001b[1;32m     74\u001b[0m       \u001b[0mnext_loc\u001b[0m \u001b[0;34m=\u001b[0m \u001b[0mnext_neighbors\u001b[0m\u001b[0;34m.\u001b[0m\u001b[0mpop\u001b[0m\u001b[0;34m(\u001b[0m\u001b[0;34m)\u001b[0m \u001b[0;31m#get the next location the piece will move to\u001b[0m\u001b[0;34m\u001b[0m\u001b[0;34m\u001b[0m\u001b[0m\n\u001b[0;32m---> 75\u001b[0;31m       \u001b[0mwinner\u001b[0m \u001b[0;34m=\u001b[0m \u001b[0mfind_path\u001b[0m\u001b[0;34m(\u001b[0m\u001b[0mlocal_maze\u001b[0m\u001b[0;34m,\u001b[0m \u001b[0mscore\u001b[0m\u001b[0;34m,\u001b[0m \u001b[0mmax_score\u001b[0m\u001b[0;34m,\u001b[0m \u001b[0mnext_loc\u001b[0m\u001b[0;34m,\u001b[0m \u001b[0mbarrier_locs\u001b[0m\u001b[0;34m)\u001b[0m \u001b[0;31m#recursively call yourself\u001b[0m\u001b[0;34m\u001b[0m\u001b[0;34m\u001b[0m\u001b[0m\n\u001b[0m\u001b[1;32m     76\u001b[0m       \u001b[0;32mif\u001b[0m \u001b[0mwinner\u001b[0m \u001b[0;32mis\u001b[0m \u001b[0;32mnot\u001b[0m \u001b[0;32mNone\u001b[0m\u001b[0;34m:\u001b[0m\u001b[0;34m\u001b[0m\u001b[0;34m\u001b[0m\u001b[0m\n\u001b[1;32m     77\u001b[0m         \u001b[0mprint_maze\u001b[0m\u001b[0;34m(\u001b[0m\u001b[0mwinner\u001b[0m\u001b[0;34m)\u001b[0m\u001b[0;34m\u001b[0m\u001b[0;34m\u001b[0m\u001b[0m\n",
            "\u001b[0;32m<ipython-input-16-f9946bad7a29>\u001b[0m in \u001b[0;36mfind_path\u001b[0;34m(maze, score, max_score, loc, barrier_locs)\u001b[0m\n\u001b[1;32m     73\u001b[0m \u001b[0;34m\u001b[0m\u001b[0m\n\u001b[1;32m     74\u001b[0m       \u001b[0mnext_loc\u001b[0m \u001b[0;34m=\u001b[0m \u001b[0mnext_neighbors\u001b[0m\u001b[0;34m.\u001b[0m\u001b[0mpop\u001b[0m\u001b[0;34m(\u001b[0m\u001b[0;34m)\u001b[0m \u001b[0;31m#get the next location the piece will move to\u001b[0m\u001b[0;34m\u001b[0m\u001b[0;34m\u001b[0m\u001b[0m\n\u001b[0;32m---> 75\u001b[0;31m       \u001b[0mwinner\u001b[0m \u001b[0;34m=\u001b[0m \u001b[0mfind_path\u001b[0m\u001b[0;34m(\u001b[0m\u001b[0mlocal_maze\u001b[0m\u001b[0;34m,\u001b[0m \u001b[0mscore\u001b[0m\u001b[0;34m,\u001b[0m \u001b[0mmax_score\u001b[0m\u001b[0;34m,\u001b[0m \u001b[0mnext_loc\u001b[0m\u001b[0;34m,\u001b[0m \u001b[0mbarrier_locs\u001b[0m\u001b[0;34m)\u001b[0m \u001b[0;31m#recursively call yourself\u001b[0m\u001b[0;34m\u001b[0m\u001b[0;34m\u001b[0m\u001b[0m\n\u001b[0m\u001b[1;32m     76\u001b[0m       \u001b[0;32mif\u001b[0m \u001b[0mwinner\u001b[0m \u001b[0;32mis\u001b[0m \u001b[0;32mnot\u001b[0m \u001b[0;32mNone\u001b[0m\u001b[0;34m:\u001b[0m\u001b[0;34m\u001b[0m\u001b[0;34m\u001b[0m\u001b[0m\n\u001b[1;32m     77\u001b[0m         \u001b[0mprint_maze\u001b[0m\u001b[0;34m(\u001b[0m\u001b[0mwinner\u001b[0m\u001b[0;34m)\u001b[0m\u001b[0;34m\u001b[0m\u001b[0;34m\u001b[0m\u001b[0m\n",
            "\u001b[0;32m<ipython-input-16-f9946bad7a29>\u001b[0m in \u001b[0;36mfind_path\u001b[0;34m(maze, score, max_score, loc, barrier_locs)\u001b[0m\n\u001b[1;32m     73\u001b[0m \u001b[0;34m\u001b[0m\u001b[0m\n\u001b[1;32m     74\u001b[0m       \u001b[0mnext_loc\u001b[0m \u001b[0;34m=\u001b[0m \u001b[0mnext_neighbors\u001b[0m\u001b[0;34m.\u001b[0m\u001b[0mpop\u001b[0m\u001b[0;34m(\u001b[0m\u001b[0;34m)\u001b[0m \u001b[0;31m#get the next location the piece will move to\u001b[0m\u001b[0;34m\u001b[0m\u001b[0;34m\u001b[0m\u001b[0m\n\u001b[0;32m---> 75\u001b[0;31m       \u001b[0mwinner\u001b[0m \u001b[0;34m=\u001b[0m \u001b[0mfind_path\u001b[0m\u001b[0;34m(\u001b[0m\u001b[0mlocal_maze\u001b[0m\u001b[0;34m,\u001b[0m \u001b[0mscore\u001b[0m\u001b[0;34m,\u001b[0m \u001b[0mmax_score\u001b[0m\u001b[0;34m,\u001b[0m \u001b[0mnext_loc\u001b[0m\u001b[0;34m,\u001b[0m \u001b[0mbarrier_locs\u001b[0m\u001b[0;34m)\u001b[0m \u001b[0;31m#recursively call yourself\u001b[0m\u001b[0;34m\u001b[0m\u001b[0;34m\u001b[0m\u001b[0m\n\u001b[0m\u001b[1;32m     76\u001b[0m       \u001b[0;32mif\u001b[0m \u001b[0mwinner\u001b[0m \u001b[0;32mis\u001b[0m \u001b[0;32mnot\u001b[0m \u001b[0;32mNone\u001b[0m\u001b[0;34m:\u001b[0m\u001b[0;34m\u001b[0m\u001b[0;34m\u001b[0m\u001b[0m\n\u001b[1;32m     77\u001b[0m         \u001b[0mprint_maze\u001b[0m\u001b[0;34m(\u001b[0m\u001b[0mwinner\u001b[0m\u001b[0;34m)\u001b[0m\u001b[0;34m\u001b[0m\u001b[0;34m\u001b[0m\u001b[0m\n",
            "\u001b[0;32m<ipython-input-16-f9946bad7a29>\u001b[0m in \u001b[0;36mfind_path\u001b[0;34m(maze, score, max_score, loc, barrier_locs)\u001b[0m\n\u001b[1;32m     73\u001b[0m \u001b[0;34m\u001b[0m\u001b[0m\n\u001b[1;32m     74\u001b[0m       \u001b[0mnext_loc\u001b[0m \u001b[0;34m=\u001b[0m \u001b[0mnext_neighbors\u001b[0m\u001b[0;34m.\u001b[0m\u001b[0mpop\u001b[0m\u001b[0;34m(\u001b[0m\u001b[0;34m)\u001b[0m \u001b[0;31m#get the next location the piece will move to\u001b[0m\u001b[0;34m\u001b[0m\u001b[0;34m\u001b[0m\u001b[0m\n\u001b[0;32m---> 75\u001b[0;31m       \u001b[0mwinner\u001b[0m \u001b[0;34m=\u001b[0m \u001b[0mfind_path\u001b[0m\u001b[0;34m(\u001b[0m\u001b[0mlocal_maze\u001b[0m\u001b[0;34m,\u001b[0m \u001b[0mscore\u001b[0m\u001b[0;34m,\u001b[0m \u001b[0mmax_score\u001b[0m\u001b[0;34m,\u001b[0m \u001b[0mnext_loc\u001b[0m\u001b[0;34m,\u001b[0m \u001b[0mbarrier_locs\u001b[0m\u001b[0;34m)\u001b[0m \u001b[0;31m#recursively call yourself\u001b[0m\u001b[0;34m\u001b[0m\u001b[0;34m\u001b[0m\u001b[0m\n\u001b[0m\u001b[1;32m     76\u001b[0m       \u001b[0;32mif\u001b[0m \u001b[0mwinner\u001b[0m \u001b[0;32mis\u001b[0m \u001b[0;32mnot\u001b[0m \u001b[0;32mNone\u001b[0m\u001b[0;34m:\u001b[0m\u001b[0;34m\u001b[0m\u001b[0;34m\u001b[0m\u001b[0m\n\u001b[1;32m     77\u001b[0m         \u001b[0mprint_maze\u001b[0m\u001b[0;34m(\u001b[0m\u001b[0mwinner\u001b[0m\u001b[0;34m)\u001b[0m\u001b[0;34m\u001b[0m\u001b[0;34m\u001b[0m\u001b[0m\n",
            "\u001b[0;32m<ipython-input-16-f9946bad7a29>\u001b[0m in \u001b[0;36mfind_path\u001b[0;34m(maze, score, max_score, loc, barrier_locs)\u001b[0m\n\u001b[1;32m     73\u001b[0m \u001b[0;34m\u001b[0m\u001b[0m\n\u001b[1;32m     74\u001b[0m       \u001b[0mnext_loc\u001b[0m \u001b[0;34m=\u001b[0m \u001b[0mnext_neighbors\u001b[0m\u001b[0;34m.\u001b[0m\u001b[0mpop\u001b[0m\u001b[0;34m(\u001b[0m\u001b[0;34m)\u001b[0m \u001b[0;31m#get the next location the piece will move to\u001b[0m\u001b[0;34m\u001b[0m\u001b[0;34m\u001b[0m\u001b[0m\n\u001b[0;32m---> 75\u001b[0;31m       \u001b[0mwinner\u001b[0m \u001b[0;34m=\u001b[0m \u001b[0mfind_path\u001b[0m\u001b[0;34m(\u001b[0m\u001b[0mlocal_maze\u001b[0m\u001b[0;34m,\u001b[0m \u001b[0mscore\u001b[0m\u001b[0;34m,\u001b[0m \u001b[0mmax_score\u001b[0m\u001b[0;34m,\u001b[0m \u001b[0mnext_loc\u001b[0m\u001b[0;34m,\u001b[0m \u001b[0mbarrier_locs\u001b[0m\u001b[0;34m)\u001b[0m \u001b[0;31m#recursively call yourself\u001b[0m\u001b[0;34m\u001b[0m\u001b[0;34m\u001b[0m\u001b[0m\n\u001b[0m\u001b[1;32m     76\u001b[0m       \u001b[0;32mif\u001b[0m \u001b[0mwinner\u001b[0m \u001b[0;32mis\u001b[0m \u001b[0;32mnot\u001b[0m \u001b[0;32mNone\u001b[0m\u001b[0;34m:\u001b[0m\u001b[0;34m\u001b[0m\u001b[0;34m\u001b[0m\u001b[0m\n\u001b[1;32m     77\u001b[0m         \u001b[0mprint_maze\u001b[0m\u001b[0;34m(\u001b[0m\u001b[0mwinner\u001b[0m\u001b[0;34m)\u001b[0m\u001b[0;34m\u001b[0m\u001b[0;34m\u001b[0m\u001b[0m\n",
            "\u001b[0;32m<ipython-input-16-f9946bad7a29>\u001b[0m in \u001b[0;36mfind_path\u001b[0;34m(maze, score, max_score, loc, barrier_locs)\u001b[0m\n\u001b[1;32m     73\u001b[0m \u001b[0;34m\u001b[0m\u001b[0m\n\u001b[1;32m     74\u001b[0m       \u001b[0mnext_loc\u001b[0m \u001b[0;34m=\u001b[0m \u001b[0mnext_neighbors\u001b[0m\u001b[0;34m.\u001b[0m\u001b[0mpop\u001b[0m\u001b[0;34m(\u001b[0m\u001b[0;34m)\u001b[0m \u001b[0;31m#get the next location the piece will move to\u001b[0m\u001b[0;34m\u001b[0m\u001b[0;34m\u001b[0m\u001b[0m\n\u001b[0;32m---> 75\u001b[0;31m       \u001b[0mwinner\u001b[0m \u001b[0;34m=\u001b[0m \u001b[0mfind_path\u001b[0m\u001b[0;34m(\u001b[0m\u001b[0mlocal_maze\u001b[0m\u001b[0;34m,\u001b[0m \u001b[0mscore\u001b[0m\u001b[0;34m,\u001b[0m \u001b[0mmax_score\u001b[0m\u001b[0;34m,\u001b[0m \u001b[0mnext_loc\u001b[0m\u001b[0;34m,\u001b[0m \u001b[0mbarrier_locs\u001b[0m\u001b[0;34m)\u001b[0m \u001b[0;31m#recursively call yourself\u001b[0m\u001b[0;34m\u001b[0m\u001b[0;34m\u001b[0m\u001b[0m\n\u001b[0m\u001b[1;32m     76\u001b[0m       \u001b[0;32mif\u001b[0m \u001b[0mwinner\u001b[0m \u001b[0;32mis\u001b[0m \u001b[0;32mnot\u001b[0m \u001b[0;32mNone\u001b[0m\u001b[0;34m:\u001b[0m\u001b[0;34m\u001b[0m\u001b[0;34m\u001b[0m\u001b[0m\n\u001b[1;32m     77\u001b[0m         \u001b[0mprint_maze\u001b[0m\u001b[0;34m(\u001b[0m\u001b[0mwinner\u001b[0m\u001b[0;34m)\u001b[0m\u001b[0;34m\u001b[0m\u001b[0;34m\u001b[0m\u001b[0m\n",
            "\u001b[0;32m<ipython-input-16-f9946bad7a29>\u001b[0m in \u001b[0;36mfind_path\u001b[0;34m(maze, score, max_score, loc, barrier_locs)\u001b[0m\n\u001b[1;32m     73\u001b[0m \u001b[0;34m\u001b[0m\u001b[0m\n\u001b[1;32m     74\u001b[0m       \u001b[0mnext_loc\u001b[0m \u001b[0;34m=\u001b[0m \u001b[0mnext_neighbors\u001b[0m\u001b[0;34m.\u001b[0m\u001b[0mpop\u001b[0m\u001b[0;34m(\u001b[0m\u001b[0;34m)\u001b[0m \u001b[0;31m#get the next location the piece will move to\u001b[0m\u001b[0;34m\u001b[0m\u001b[0;34m\u001b[0m\u001b[0m\n\u001b[0;32m---> 75\u001b[0;31m       \u001b[0mwinner\u001b[0m \u001b[0;34m=\u001b[0m \u001b[0mfind_path\u001b[0m\u001b[0;34m(\u001b[0m\u001b[0mlocal_maze\u001b[0m\u001b[0;34m,\u001b[0m \u001b[0mscore\u001b[0m\u001b[0;34m,\u001b[0m \u001b[0mmax_score\u001b[0m\u001b[0;34m,\u001b[0m \u001b[0mnext_loc\u001b[0m\u001b[0;34m,\u001b[0m \u001b[0mbarrier_locs\u001b[0m\u001b[0;34m)\u001b[0m \u001b[0;31m#recursively call yourself\u001b[0m\u001b[0;34m\u001b[0m\u001b[0;34m\u001b[0m\u001b[0m\n\u001b[0m\u001b[1;32m     76\u001b[0m       \u001b[0;32mif\u001b[0m \u001b[0mwinner\u001b[0m \u001b[0;32mis\u001b[0m \u001b[0;32mnot\u001b[0m \u001b[0;32mNone\u001b[0m\u001b[0;34m:\u001b[0m\u001b[0;34m\u001b[0m\u001b[0;34m\u001b[0m\u001b[0m\n\u001b[1;32m     77\u001b[0m         \u001b[0mprint_maze\u001b[0m\u001b[0;34m(\u001b[0m\u001b[0mwinner\u001b[0m\u001b[0;34m)\u001b[0m\u001b[0;34m\u001b[0m\u001b[0;34m\u001b[0m\u001b[0m\n",
            "\u001b[0;32m<ipython-input-16-f9946bad7a29>\u001b[0m in \u001b[0;36mfind_path\u001b[0;34m(maze, score, max_score, loc, barrier_locs)\u001b[0m\n\u001b[1;32m     73\u001b[0m \u001b[0;34m\u001b[0m\u001b[0m\n\u001b[1;32m     74\u001b[0m       \u001b[0mnext_loc\u001b[0m \u001b[0;34m=\u001b[0m \u001b[0mnext_neighbors\u001b[0m\u001b[0;34m.\u001b[0m\u001b[0mpop\u001b[0m\u001b[0;34m(\u001b[0m\u001b[0;34m)\u001b[0m \u001b[0;31m#get the next location the piece will move to\u001b[0m\u001b[0;34m\u001b[0m\u001b[0;34m\u001b[0m\u001b[0m\n\u001b[0;32m---> 75\u001b[0;31m       \u001b[0mwinner\u001b[0m \u001b[0;34m=\u001b[0m \u001b[0mfind_path\u001b[0m\u001b[0;34m(\u001b[0m\u001b[0mlocal_maze\u001b[0m\u001b[0;34m,\u001b[0m \u001b[0mscore\u001b[0m\u001b[0;34m,\u001b[0m \u001b[0mmax_score\u001b[0m\u001b[0;34m,\u001b[0m \u001b[0mnext_loc\u001b[0m\u001b[0;34m,\u001b[0m \u001b[0mbarrier_locs\u001b[0m\u001b[0;34m)\u001b[0m \u001b[0;31m#recursively call yourself\u001b[0m\u001b[0;34m\u001b[0m\u001b[0;34m\u001b[0m\u001b[0m\n\u001b[0m\u001b[1;32m     76\u001b[0m       \u001b[0;32mif\u001b[0m \u001b[0mwinner\u001b[0m \u001b[0;32mis\u001b[0m \u001b[0;32mnot\u001b[0m \u001b[0;32mNone\u001b[0m\u001b[0;34m:\u001b[0m\u001b[0;34m\u001b[0m\u001b[0;34m\u001b[0m\u001b[0m\n\u001b[1;32m     77\u001b[0m         \u001b[0mprint_maze\u001b[0m\u001b[0;34m(\u001b[0m\u001b[0mwinner\u001b[0m\u001b[0;34m)\u001b[0m\u001b[0;34m\u001b[0m\u001b[0;34m\u001b[0m\u001b[0m\n",
            "\u001b[0;32m<ipython-input-16-f9946bad7a29>\u001b[0m in \u001b[0;36mfind_path\u001b[0;34m(maze, score, max_score, loc, barrier_locs)\u001b[0m\n\u001b[1;32m     73\u001b[0m \u001b[0;34m\u001b[0m\u001b[0m\n\u001b[1;32m     74\u001b[0m       \u001b[0mnext_loc\u001b[0m \u001b[0;34m=\u001b[0m \u001b[0mnext_neighbors\u001b[0m\u001b[0;34m.\u001b[0m\u001b[0mpop\u001b[0m\u001b[0;34m(\u001b[0m\u001b[0;34m)\u001b[0m \u001b[0;31m#get the next location the piece will move to\u001b[0m\u001b[0;34m\u001b[0m\u001b[0;34m\u001b[0m\u001b[0m\n\u001b[0;32m---> 75\u001b[0;31m       \u001b[0mwinner\u001b[0m \u001b[0;34m=\u001b[0m \u001b[0mfind_path\u001b[0m\u001b[0;34m(\u001b[0m\u001b[0mlocal_maze\u001b[0m\u001b[0;34m,\u001b[0m \u001b[0mscore\u001b[0m\u001b[0;34m,\u001b[0m \u001b[0mmax_score\u001b[0m\u001b[0;34m,\u001b[0m \u001b[0mnext_loc\u001b[0m\u001b[0;34m,\u001b[0m \u001b[0mbarrier_locs\u001b[0m\u001b[0;34m)\u001b[0m \u001b[0;31m#recursively call yourself\u001b[0m\u001b[0;34m\u001b[0m\u001b[0;34m\u001b[0m\u001b[0m\n\u001b[0m\u001b[1;32m     76\u001b[0m       \u001b[0;32mif\u001b[0m \u001b[0mwinner\u001b[0m \u001b[0;32mis\u001b[0m \u001b[0;32mnot\u001b[0m \u001b[0;32mNone\u001b[0m\u001b[0;34m:\u001b[0m\u001b[0;34m\u001b[0m\u001b[0;34m\u001b[0m\u001b[0m\n\u001b[1;32m     77\u001b[0m         \u001b[0mprint_maze\u001b[0m\u001b[0;34m(\u001b[0m\u001b[0mwinner\u001b[0m\u001b[0;34m)\u001b[0m\u001b[0;34m\u001b[0m\u001b[0;34m\u001b[0m\u001b[0m\n",
            "\u001b[0;32m<ipython-input-16-f9946bad7a29>\u001b[0m in \u001b[0;36mfind_path\u001b[0;34m(maze, score, max_score, loc, barrier_locs)\u001b[0m\n\u001b[1;32m     73\u001b[0m \u001b[0;34m\u001b[0m\u001b[0m\n\u001b[1;32m     74\u001b[0m       \u001b[0mnext_loc\u001b[0m \u001b[0;34m=\u001b[0m \u001b[0mnext_neighbors\u001b[0m\u001b[0;34m.\u001b[0m\u001b[0mpop\u001b[0m\u001b[0;34m(\u001b[0m\u001b[0;34m)\u001b[0m \u001b[0;31m#get the next location the piece will move to\u001b[0m\u001b[0;34m\u001b[0m\u001b[0;34m\u001b[0m\u001b[0m\n\u001b[0;32m---> 75\u001b[0;31m       \u001b[0mwinner\u001b[0m \u001b[0;34m=\u001b[0m \u001b[0mfind_path\u001b[0m\u001b[0;34m(\u001b[0m\u001b[0mlocal_maze\u001b[0m\u001b[0;34m,\u001b[0m \u001b[0mscore\u001b[0m\u001b[0;34m,\u001b[0m \u001b[0mmax_score\u001b[0m\u001b[0;34m,\u001b[0m \u001b[0mnext_loc\u001b[0m\u001b[0;34m,\u001b[0m \u001b[0mbarrier_locs\u001b[0m\u001b[0;34m)\u001b[0m \u001b[0;31m#recursively call yourself\u001b[0m\u001b[0;34m\u001b[0m\u001b[0;34m\u001b[0m\u001b[0m\n\u001b[0m\u001b[1;32m     76\u001b[0m       \u001b[0;32mif\u001b[0m \u001b[0mwinner\u001b[0m \u001b[0;32mis\u001b[0m \u001b[0;32mnot\u001b[0m \u001b[0;32mNone\u001b[0m\u001b[0;34m:\u001b[0m\u001b[0;34m\u001b[0m\u001b[0;34m\u001b[0m\u001b[0m\n\u001b[1;32m     77\u001b[0m         \u001b[0mprint_maze\u001b[0m\u001b[0;34m(\u001b[0m\u001b[0mwinner\u001b[0m\u001b[0;34m)\u001b[0m\u001b[0;34m\u001b[0m\u001b[0;34m\u001b[0m\u001b[0m\n",
            "\u001b[0;32m<ipython-input-16-f9946bad7a29>\u001b[0m in \u001b[0;36mfind_path\u001b[0;34m(maze, score, max_score, loc, barrier_locs)\u001b[0m\n\u001b[1;32m     73\u001b[0m \u001b[0;34m\u001b[0m\u001b[0m\n\u001b[1;32m     74\u001b[0m       \u001b[0mnext_loc\u001b[0m \u001b[0;34m=\u001b[0m \u001b[0mnext_neighbors\u001b[0m\u001b[0;34m.\u001b[0m\u001b[0mpop\u001b[0m\u001b[0;34m(\u001b[0m\u001b[0;34m)\u001b[0m \u001b[0;31m#get the next location the piece will move to\u001b[0m\u001b[0;34m\u001b[0m\u001b[0;34m\u001b[0m\u001b[0m\n\u001b[0;32m---> 75\u001b[0;31m       \u001b[0mwinner\u001b[0m \u001b[0;34m=\u001b[0m \u001b[0mfind_path\u001b[0m\u001b[0;34m(\u001b[0m\u001b[0mlocal_maze\u001b[0m\u001b[0;34m,\u001b[0m \u001b[0mscore\u001b[0m\u001b[0;34m,\u001b[0m \u001b[0mmax_score\u001b[0m\u001b[0;34m,\u001b[0m \u001b[0mnext_loc\u001b[0m\u001b[0;34m,\u001b[0m \u001b[0mbarrier_locs\u001b[0m\u001b[0;34m)\u001b[0m \u001b[0;31m#recursively call yourself\u001b[0m\u001b[0;34m\u001b[0m\u001b[0;34m\u001b[0m\u001b[0m\n\u001b[0m\u001b[1;32m     76\u001b[0m       \u001b[0;32mif\u001b[0m \u001b[0mwinner\u001b[0m \u001b[0;32mis\u001b[0m \u001b[0;32mnot\u001b[0m \u001b[0;32mNone\u001b[0m\u001b[0;34m:\u001b[0m\u001b[0;34m\u001b[0m\u001b[0;34m\u001b[0m\u001b[0m\n\u001b[1;32m     77\u001b[0m         \u001b[0mprint_maze\u001b[0m\u001b[0;34m(\u001b[0m\u001b[0mwinner\u001b[0m\u001b[0;34m)\u001b[0m\u001b[0;34m\u001b[0m\u001b[0;34m\u001b[0m\u001b[0m\n",
            "\u001b[0;32m<ipython-input-16-f9946bad7a29>\u001b[0m in \u001b[0;36mfind_path\u001b[0;34m(maze, score, max_score, loc, barrier_locs)\u001b[0m\n\u001b[1;32m     73\u001b[0m \u001b[0;34m\u001b[0m\u001b[0m\n\u001b[1;32m     74\u001b[0m       \u001b[0mnext_loc\u001b[0m \u001b[0;34m=\u001b[0m \u001b[0mnext_neighbors\u001b[0m\u001b[0;34m.\u001b[0m\u001b[0mpop\u001b[0m\u001b[0;34m(\u001b[0m\u001b[0;34m)\u001b[0m \u001b[0;31m#get the next location the piece will move to\u001b[0m\u001b[0;34m\u001b[0m\u001b[0;34m\u001b[0m\u001b[0m\n\u001b[0;32m---> 75\u001b[0;31m       \u001b[0mwinner\u001b[0m \u001b[0;34m=\u001b[0m \u001b[0mfind_path\u001b[0m\u001b[0;34m(\u001b[0m\u001b[0mlocal_maze\u001b[0m\u001b[0;34m,\u001b[0m \u001b[0mscore\u001b[0m\u001b[0;34m,\u001b[0m \u001b[0mmax_score\u001b[0m\u001b[0;34m,\u001b[0m \u001b[0mnext_loc\u001b[0m\u001b[0;34m,\u001b[0m \u001b[0mbarrier_locs\u001b[0m\u001b[0;34m)\u001b[0m \u001b[0;31m#recursively call yourself\u001b[0m\u001b[0;34m\u001b[0m\u001b[0;34m\u001b[0m\u001b[0m\n\u001b[0m\u001b[1;32m     76\u001b[0m       \u001b[0;32mif\u001b[0m \u001b[0mwinner\u001b[0m \u001b[0;32mis\u001b[0m \u001b[0;32mnot\u001b[0m \u001b[0;32mNone\u001b[0m\u001b[0;34m:\u001b[0m\u001b[0;34m\u001b[0m\u001b[0;34m\u001b[0m\u001b[0m\n\u001b[1;32m     77\u001b[0m         \u001b[0mprint_maze\u001b[0m\u001b[0;34m(\u001b[0m\u001b[0mwinner\u001b[0m\u001b[0;34m)\u001b[0m\u001b[0;34m\u001b[0m\u001b[0;34m\u001b[0m\u001b[0m\n",
            "\u001b[0;32m<ipython-input-16-f9946bad7a29>\u001b[0m in \u001b[0;36mfind_path\u001b[0;34m(maze, score, max_score, loc, barrier_locs)\u001b[0m\n\u001b[1;32m     73\u001b[0m \u001b[0;34m\u001b[0m\u001b[0m\n\u001b[1;32m     74\u001b[0m       \u001b[0mnext_loc\u001b[0m \u001b[0;34m=\u001b[0m \u001b[0mnext_neighbors\u001b[0m\u001b[0;34m.\u001b[0m\u001b[0mpop\u001b[0m\u001b[0;34m(\u001b[0m\u001b[0;34m)\u001b[0m \u001b[0;31m#get the next location the piece will move to\u001b[0m\u001b[0;34m\u001b[0m\u001b[0;34m\u001b[0m\u001b[0m\n\u001b[0;32m---> 75\u001b[0;31m       \u001b[0mwinner\u001b[0m \u001b[0;34m=\u001b[0m \u001b[0mfind_path\u001b[0m\u001b[0;34m(\u001b[0m\u001b[0mlocal_maze\u001b[0m\u001b[0;34m,\u001b[0m \u001b[0mscore\u001b[0m\u001b[0;34m,\u001b[0m \u001b[0mmax_score\u001b[0m\u001b[0;34m,\u001b[0m \u001b[0mnext_loc\u001b[0m\u001b[0;34m,\u001b[0m \u001b[0mbarrier_locs\u001b[0m\u001b[0;34m)\u001b[0m \u001b[0;31m#recursively call yourself\u001b[0m\u001b[0;34m\u001b[0m\u001b[0;34m\u001b[0m\u001b[0m\n\u001b[0m\u001b[1;32m     76\u001b[0m       \u001b[0;32mif\u001b[0m \u001b[0mwinner\u001b[0m \u001b[0;32mis\u001b[0m \u001b[0;32mnot\u001b[0m \u001b[0;32mNone\u001b[0m\u001b[0;34m:\u001b[0m\u001b[0;34m\u001b[0m\u001b[0;34m\u001b[0m\u001b[0m\n\u001b[1;32m     77\u001b[0m         \u001b[0mprint_maze\u001b[0m\u001b[0;34m(\u001b[0m\u001b[0mwinner\u001b[0m\u001b[0;34m)\u001b[0m\u001b[0;34m\u001b[0m\u001b[0;34m\u001b[0m\u001b[0m\n",
            "\u001b[0;32m<ipython-input-16-f9946bad7a29>\u001b[0m in \u001b[0;36mfind_path\u001b[0;34m(maze, score, max_score, loc, barrier_locs)\u001b[0m\n\u001b[1;32m     73\u001b[0m \u001b[0;34m\u001b[0m\u001b[0m\n\u001b[1;32m     74\u001b[0m       \u001b[0mnext_loc\u001b[0m \u001b[0;34m=\u001b[0m \u001b[0mnext_neighbors\u001b[0m\u001b[0;34m.\u001b[0m\u001b[0mpop\u001b[0m\u001b[0;34m(\u001b[0m\u001b[0;34m)\u001b[0m \u001b[0;31m#get the next location the piece will move to\u001b[0m\u001b[0;34m\u001b[0m\u001b[0;34m\u001b[0m\u001b[0m\n\u001b[0;32m---> 75\u001b[0;31m       \u001b[0mwinner\u001b[0m \u001b[0;34m=\u001b[0m \u001b[0mfind_path\u001b[0m\u001b[0;34m(\u001b[0m\u001b[0mlocal_maze\u001b[0m\u001b[0;34m,\u001b[0m \u001b[0mscore\u001b[0m\u001b[0;34m,\u001b[0m \u001b[0mmax_score\u001b[0m\u001b[0;34m,\u001b[0m \u001b[0mnext_loc\u001b[0m\u001b[0;34m,\u001b[0m \u001b[0mbarrier_locs\u001b[0m\u001b[0;34m)\u001b[0m \u001b[0;31m#recursively call yourself\u001b[0m\u001b[0;34m\u001b[0m\u001b[0;34m\u001b[0m\u001b[0m\n\u001b[0m\u001b[1;32m     76\u001b[0m       \u001b[0;32mif\u001b[0m \u001b[0mwinner\u001b[0m \u001b[0;32mis\u001b[0m \u001b[0;32mnot\u001b[0m \u001b[0;32mNone\u001b[0m\u001b[0;34m:\u001b[0m\u001b[0;34m\u001b[0m\u001b[0;34m\u001b[0m\u001b[0m\n\u001b[1;32m     77\u001b[0m         \u001b[0mprint_maze\u001b[0m\u001b[0;34m(\u001b[0m\u001b[0mwinner\u001b[0m\u001b[0;34m)\u001b[0m\u001b[0;34m\u001b[0m\u001b[0;34m\u001b[0m\u001b[0m\n",
            "\u001b[0;32m<ipython-input-16-f9946bad7a29>\u001b[0m in \u001b[0;36mfind_path\u001b[0;34m(maze, score, max_score, loc, barrier_locs)\u001b[0m\n\u001b[1;32m     73\u001b[0m \u001b[0;34m\u001b[0m\u001b[0m\n\u001b[1;32m     74\u001b[0m       \u001b[0mnext_loc\u001b[0m \u001b[0;34m=\u001b[0m \u001b[0mnext_neighbors\u001b[0m\u001b[0;34m.\u001b[0m\u001b[0mpop\u001b[0m\u001b[0;34m(\u001b[0m\u001b[0;34m)\u001b[0m \u001b[0;31m#get the next location the piece will move to\u001b[0m\u001b[0;34m\u001b[0m\u001b[0;34m\u001b[0m\u001b[0m\n\u001b[0;32m---> 75\u001b[0;31m       \u001b[0mwinner\u001b[0m \u001b[0;34m=\u001b[0m \u001b[0mfind_path\u001b[0m\u001b[0;34m(\u001b[0m\u001b[0mlocal_maze\u001b[0m\u001b[0;34m,\u001b[0m \u001b[0mscore\u001b[0m\u001b[0;34m,\u001b[0m \u001b[0mmax_score\u001b[0m\u001b[0;34m,\u001b[0m \u001b[0mnext_loc\u001b[0m\u001b[0;34m,\u001b[0m \u001b[0mbarrier_locs\u001b[0m\u001b[0;34m)\u001b[0m \u001b[0;31m#recursively call yourself\u001b[0m\u001b[0;34m\u001b[0m\u001b[0;34m\u001b[0m\u001b[0m\n\u001b[0m\u001b[1;32m     76\u001b[0m       \u001b[0;32mif\u001b[0m \u001b[0mwinner\u001b[0m \u001b[0;32mis\u001b[0m \u001b[0;32mnot\u001b[0m \u001b[0;32mNone\u001b[0m\u001b[0;34m:\u001b[0m\u001b[0;34m\u001b[0m\u001b[0;34m\u001b[0m\u001b[0m\n\u001b[1;32m     77\u001b[0m         \u001b[0mprint_maze\u001b[0m\u001b[0;34m(\u001b[0m\u001b[0mwinner\u001b[0m\u001b[0;34m)\u001b[0m\u001b[0;34m\u001b[0m\u001b[0;34m\u001b[0m\u001b[0m\n",
            "\u001b[0;32m<ipython-input-16-f9946bad7a29>\u001b[0m in \u001b[0;36mfind_path\u001b[0;34m(maze, score, max_score, loc, barrier_locs)\u001b[0m\n\u001b[1;32m     73\u001b[0m \u001b[0;34m\u001b[0m\u001b[0m\n\u001b[1;32m     74\u001b[0m       \u001b[0mnext_loc\u001b[0m \u001b[0;34m=\u001b[0m \u001b[0mnext_neighbors\u001b[0m\u001b[0;34m.\u001b[0m\u001b[0mpop\u001b[0m\u001b[0;34m(\u001b[0m\u001b[0;34m)\u001b[0m \u001b[0;31m#get the next location the piece will move to\u001b[0m\u001b[0;34m\u001b[0m\u001b[0;34m\u001b[0m\u001b[0m\n\u001b[0;32m---> 75\u001b[0;31m       \u001b[0mwinner\u001b[0m \u001b[0;34m=\u001b[0m \u001b[0mfind_path\u001b[0m\u001b[0;34m(\u001b[0m\u001b[0mlocal_maze\u001b[0m\u001b[0;34m,\u001b[0m \u001b[0mscore\u001b[0m\u001b[0;34m,\u001b[0m \u001b[0mmax_score\u001b[0m\u001b[0;34m,\u001b[0m \u001b[0mnext_loc\u001b[0m\u001b[0;34m,\u001b[0m \u001b[0mbarrier_locs\u001b[0m\u001b[0;34m)\u001b[0m \u001b[0;31m#recursively call yourself\u001b[0m\u001b[0;34m\u001b[0m\u001b[0;34m\u001b[0m\u001b[0m\n\u001b[0m\u001b[1;32m     76\u001b[0m       \u001b[0;32mif\u001b[0m \u001b[0mwinner\u001b[0m \u001b[0;32mis\u001b[0m \u001b[0;32mnot\u001b[0m \u001b[0;32mNone\u001b[0m\u001b[0;34m:\u001b[0m\u001b[0;34m\u001b[0m\u001b[0;34m\u001b[0m\u001b[0m\n\u001b[1;32m     77\u001b[0m         \u001b[0mprint_maze\u001b[0m\u001b[0;34m(\u001b[0m\u001b[0mwinner\u001b[0m\u001b[0;34m)\u001b[0m\u001b[0;34m\u001b[0m\u001b[0;34m\u001b[0m\u001b[0m\n",
            "\u001b[0;32m<ipython-input-16-f9946bad7a29>\u001b[0m in \u001b[0;36mfind_path\u001b[0;34m(maze, score, max_score, loc, barrier_locs)\u001b[0m\n\u001b[1;32m     73\u001b[0m \u001b[0;34m\u001b[0m\u001b[0m\n\u001b[1;32m     74\u001b[0m       \u001b[0mnext_loc\u001b[0m \u001b[0;34m=\u001b[0m \u001b[0mnext_neighbors\u001b[0m\u001b[0;34m.\u001b[0m\u001b[0mpop\u001b[0m\u001b[0;34m(\u001b[0m\u001b[0;34m)\u001b[0m \u001b[0;31m#get the next location the piece will move to\u001b[0m\u001b[0;34m\u001b[0m\u001b[0;34m\u001b[0m\u001b[0m\n\u001b[0;32m---> 75\u001b[0;31m       \u001b[0mwinner\u001b[0m \u001b[0;34m=\u001b[0m \u001b[0mfind_path\u001b[0m\u001b[0;34m(\u001b[0m\u001b[0mlocal_maze\u001b[0m\u001b[0;34m,\u001b[0m \u001b[0mscore\u001b[0m\u001b[0;34m,\u001b[0m \u001b[0mmax_score\u001b[0m\u001b[0;34m,\u001b[0m \u001b[0mnext_loc\u001b[0m\u001b[0;34m,\u001b[0m \u001b[0mbarrier_locs\u001b[0m\u001b[0;34m)\u001b[0m \u001b[0;31m#recursively call yourself\u001b[0m\u001b[0;34m\u001b[0m\u001b[0;34m\u001b[0m\u001b[0m\n\u001b[0m\u001b[1;32m     76\u001b[0m       \u001b[0;32mif\u001b[0m \u001b[0mwinner\u001b[0m \u001b[0;32mis\u001b[0m \u001b[0;32mnot\u001b[0m \u001b[0;32mNone\u001b[0m\u001b[0;34m:\u001b[0m\u001b[0;34m\u001b[0m\u001b[0;34m\u001b[0m\u001b[0m\n\u001b[1;32m     77\u001b[0m         \u001b[0mprint_maze\u001b[0m\u001b[0;34m(\u001b[0m\u001b[0mwinner\u001b[0m\u001b[0;34m)\u001b[0m\u001b[0;34m\u001b[0m\u001b[0;34m\u001b[0m\u001b[0m\n",
            "\u001b[0;32m<ipython-input-16-f9946bad7a29>\u001b[0m in \u001b[0;36mfind_path\u001b[0;34m(maze, score, max_score, loc, barrier_locs)\u001b[0m\n\u001b[1;32m     73\u001b[0m \u001b[0;34m\u001b[0m\u001b[0m\n\u001b[1;32m     74\u001b[0m       \u001b[0mnext_loc\u001b[0m \u001b[0;34m=\u001b[0m \u001b[0mnext_neighbors\u001b[0m\u001b[0;34m.\u001b[0m\u001b[0mpop\u001b[0m\u001b[0;34m(\u001b[0m\u001b[0;34m)\u001b[0m \u001b[0;31m#get the next location the piece will move to\u001b[0m\u001b[0;34m\u001b[0m\u001b[0;34m\u001b[0m\u001b[0m\n\u001b[0;32m---> 75\u001b[0;31m       \u001b[0mwinner\u001b[0m \u001b[0;34m=\u001b[0m \u001b[0mfind_path\u001b[0m\u001b[0;34m(\u001b[0m\u001b[0mlocal_maze\u001b[0m\u001b[0;34m,\u001b[0m \u001b[0mscore\u001b[0m\u001b[0;34m,\u001b[0m \u001b[0mmax_score\u001b[0m\u001b[0;34m,\u001b[0m \u001b[0mnext_loc\u001b[0m\u001b[0;34m,\u001b[0m \u001b[0mbarrier_locs\u001b[0m\u001b[0;34m)\u001b[0m \u001b[0;31m#recursively call yourself\u001b[0m\u001b[0;34m\u001b[0m\u001b[0;34m\u001b[0m\u001b[0m\n\u001b[0m\u001b[1;32m     76\u001b[0m       \u001b[0;32mif\u001b[0m \u001b[0mwinner\u001b[0m \u001b[0;32mis\u001b[0m \u001b[0;32mnot\u001b[0m \u001b[0;32mNone\u001b[0m\u001b[0;34m:\u001b[0m\u001b[0;34m\u001b[0m\u001b[0;34m\u001b[0m\u001b[0m\n\u001b[1;32m     77\u001b[0m         \u001b[0mprint_maze\u001b[0m\u001b[0;34m(\u001b[0m\u001b[0mwinner\u001b[0m\u001b[0;34m)\u001b[0m\u001b[0;34m\u001b[0m\u001b[0;34m\u001b[0m\u001b[0m\n",
            "\u001b[0;32m<ipython-input-16-f9946bad7a29>\u001b[0m in \u001b[0;36mfind_path\u001b[0;34m(maze, score, max_score, loc, barrier_locs)\u001b[0m\n\u001b[1;32m     73\u001b[0m \u001b[0;34m\u001b[0m\u001b[0m\n\u001b[1;32m     74\u001b[0m       \u001b[0mnext_loc\u001b[0m \u001b[0;34m=\u001b[0m \u001b[0mnext_neighbors\u001b[0m\u001b[0;34m.\u001b[0m\u001b[0mpop\u001b[0m\u001b[0;34m(\u001b[0m\u001b[0;34m)\u001b[0m \u001b[0;31m#get the next location the piece will move to\u001b[0m\u001b[0;34m\u001b[0m\u001b[0;34m\u001b[0m\u001b[0m\n\u001b[0;32m---> 75\u001b[0;31m       \u001b[0mwinner\u001b[0m \u001b[0;34m=\u001b[0m \u001b[0mfind_path\u001b[0m\u001b[0;34m(\u001b[0m\u001b[0mlocal_maze\u001b[0m\u001b[0;34m,\u001b[0m \u001b[0mscore\u001b[0m\u001b[0;34m,\u001b[0m \u001b[0mmax_score\u001b[0m\u001b[0;34m,\u001b[0m \u001b[0mnext_loc\u001b[0m\u001b[0;34m,\u001b[0m \u001b[0mbarrier_locs\u001b[0m\u001b[0;34m)\u001b[0m \u001b[0;31m#recursively call yourself\u001b[0m\u001b[0;34m\u001b[0m\u001b[0;34m\u001b[0m\u001b[0m\n\u001b[0m\u001b[1;32m     76\u001b[0m       \u001b[0;32mif\u001b[0m \u001b[0mwinner\u001b[0m \u001b[0;32mis\u001b[0m \u001b[0;32mnot\u001b[0m \u001b[0;32mNone\u001b[0m\u001b[0;34m:\u001b[0m\u001b[0;34m\u001b[0m\u001b[0;34m\u001b[0m\u001b[0m\n\u001b[1;32m     77\u001b[0m         \u001b[0mprint_maze\u001b[0m\u001b[0;34m(\u001b[0m\u001b[0mwinner\u001b[0m\u001b[0;34m)\u001b[0m\u001b[0;34m\u001b[0m\u001b[0;34m\u001b[0m\u001b[0m\n",
            "\u001b[0;32m<ipython-input-16-f9946bad7a29>\u001b[0m in \u001b[0;36mfind_path\u001b[0;34m(maze, score, max_score, loc, barrier_locs)\u001b[0m\n\u001b[1;32m     73\u001b[0m \u001b[0;34m\u001b[0m\u001b[0m\n\u001b[1;32m     74\u001b[0m       \u001b[0mnext_loc\u001b[0m \u001b[0;34m=\u001b[0m \u001b[0mnext_neighbors\u001b[0m\u001b[0;34m.\u001b[0m\u001b[0mpop\u001b[0m\u001b[0;34m(\u001b[0m\u001b[0;34m)\u001b[0m \u001b[0;31m#get the next location the piece will move to\u001b[0m\u001b[0;34m\u001b[0m\u001b[0;34m\u001b[0m\u001b[0m\n\u001b[0;32m---> 75\u001b[0;31m       \u001b[0mwinner\u001b[0m \u001b[0;34m=\u001b[0m \u001b[0mfind_path\u001b[0m\u001b[0;34m(\u001b[0m\u001b[0mlocal_maze\u001b[0m\u001b[0;34m,\u001b[0m \u001b[0mscore\u001b[0m\u001b[0;34m,\u001b[0m \u001b[0mmax_score\u001b[0m\u001b[0;34m,\u001b[0m \u001b[0mnext_loc\u001b[0m\u001b[0;34m,\u001b[0m \u001b[0mbarrier_locs\u001b[0m\u001b[0;34m)\u001b[0m \u001b[0;31m#recursively call yourself\u001b[0m\u001b[0;34m\u001b[0m\u001b[0;34m\u001b[0m\u001b[0m\n\u001b[0m\u001b[1;32m     76\u001b[0m       \u001b[0;32mif\u001b[0m \u001b[0mwinner\u001b[0m \u001b[0;32mis\u001b[0m \u001b[0;32mnot\u001b[0m \u001b[0;32mNone\u001b[0m\u001b[0;34m:\u001b[0m\u001b[0;34m\u001b[0m\u001b[0;34m\u001b[0m\u001b[0m\n\u001b[1;32m     77\u001b[0m         \u001b[0mprint_maze\u001b[0m\u001b[0;34m(\u001b[0m\u001b[0mwinner\u001b[0m\u001b[0;34m)\u001b[0m\u001b[0;34m\u001b[0m\u001b[0;34m\u001b[0m\u001b[0m\n",
            "\u001b[0;32m<ipython-input-16-f9946bad7a29>\u001b[0m in \u001b[0;36mfind_path\u001b[0;34m(maze, score, max_score, loc, barrier_locs)\u001b[0m\n\u001b[1;32m     73\u001b[0m \u001b[0;34m\u001b[0m\u001b[0m\n\u001b[1;32m     74\u001b[0m       \u001b[0mnext_loc\u001b[0m \u001b[0;34m=\u001b[0m \u001b[0mnext_neighbors\u001b[0m\u001b[0;34m.\u001b[0m\u001b[0mpop\u001b[0m\u001b[0;34m(\u001b[0m\u001b[0;34m)\u001b[0m \u001b[0;31m#get the next location the piece will move to\u001b[0m\u001b[0;34m\u001b[0m\u001b[0;34m\u001b[0m\u001b[0m\n\u001b[0;32m---> 75\u001b[0;31m       \u001b[0mwinner\u001b[0m \u001b[0;34m=\u001b[0m \u001b[0mfind_path\u001b[0m\u001b[0;34m(\u001b[0m\u001b[0mlocal_maze\u001b[0m\u001b[0;34m,\u001b[0m \u001b[0mscore\u001b[0m\u001b[0;34m,\u001b[0m \u001b[0mmax_score\u001b[0m\u001b[0;34m,\u001b[0m \u001b[0mnext_loc\u001b[0m\u001b[0;34m,\u001b[0m \u001b[0mbarrier_locs\u001b[0m\u001b[0;34m)\u001b[0m \u001b[0;31m#recursively call yourself\u001b[0m\u001b[0;34m\u001b[0m\u001b[0;34m\u001b[0m\u001b[0m\n\u001b[0m\u001b[1;32m     76\u001b[0m       \u001b[0;32mif\u001b[0m \u001b[0mwinner\u001b[0m \u001b[0;32mis\u001b[0m \u001b[0;32mnot\u001b[0m \u001b[0;32mNone\u001b[0m\u001b[0;34m:\u001b[0m\u001b[0;34m\u001b[0m\u001b[0;34m\u001b[0m\u001b[0m\n\u001b[1;32m     77\u001b[0m         \u001b[0mprint_maze\u001b[0m\u001b[0;34m(\u001b[0m\u001b[0mwinner\u001b[0m\u001b[0;34m)\u001b[0m\u001b[0;34m\u001b[0m\u001b[0;34m\u001b[0m\u001b[0m\n",
            "\u001b[0;32m<ipython-input-16-f9946bad7a29>\u001b[0m in \u001b[0;36mfind_path\u001b[0;34m(maze, score, max_score, loc, barrier_locs)\u001b[0m\n\u001b[1;32m     73\u001b[0m \u001b[0;34m\u001b[0m\u001b[0m\n\u001b[1;32m     74\u001b[0m       \u001b[0mnext_loc\u001b[0m \u001b[0;34m=\u001b[0m \u001b[0mnext_neighbors\u001b[0m\u001b[0;34m.\u001b[0m\u001b[0mpop\u001b[0m\u001b[0;34m(\u001b[0m\u001b[0;34m)\u001b[0m \u001b[0;31m#get the next location the piece will move to\u001b[0m\u001b[0;34m\u001b[0m\u001b[0;34m\u001b[0m\u001b[0m\n\u001b[0;32m---> 75\u001b[0;31m       \u001b[0mwinner\u001b[0m \u001b[0;34m=\u001b[0m \u001b[0mfind_path\u001b[0m\u001b[0;34m(\u001b[0m\u001b[0mlocal_maze\u001b[0m\u001b[0;34m,\u001b[0m \u001b[0mscore\u001b[0m\u001b[0;34m,\u001b[0m \u001b[0mmax_score\u001b[0m\u001b[0;34m,\u001b[0m \u001b[0mnext_loc\u001b[0m\u001b[0;34m,\u001b[0m \u001b[0mbarrier_locs\u001b[0m\u001b[0;34m)\u001b[0m \u001b[0;31m#recursively call yourself\u001b[0m\u001b[0;34m\u001b[0m\u001b[0;34m\u001b[0m\u001b[0m\n\u001b[0m\u001b[1;32m     76\u001b[0m       \u001b[0;32mif\u001b[0m \u001b[0mwinner\u001b[0m \u001b[0;32mis\u001b[0m \u001b[0;32mnot\u001b[0m \u001b[0;32mNone\u001b[0m\u001b[0;34m:\u001b[0m\u001b[0;34m\u001b[0m\u001b[0;34m\u001b[0m\u001b[0m\n\u001b[1;32m     77\u001b[0m         \u001b[0mprint_maze\u001b[0m\u001b[0;34m(\u001b[0m\u001b[0mwinner\u001b[0m\u001b[0;34m)\u001b[0m\u001b[0;34m\u001b[0m\u001b[0;34m\u001b[0m\u001b[0m\n",
            "\u001b[0;32m<ipython-input-16-f9946bad7a29>\u001b[0m in \u001b[0;36mfind_path\u001b[0;34m(maze, score, max_score, loc, barrier_locs)\u001b[0m\n\u001b[1;32m     73\u001b[0m \u001b[0;34m\u001b[0m\u001b[0m\n\u001b[1;32m     74\u001b[0m       \u001b[0mnext_loc\u001b[0m \u001b[0;34m=\u001b[0m \u001b[0mnext_neighbors\u001b[0m\u001b[0;34m.\u001b[0m\u001b[0mpop\u001b[0m\u001b[0;34m(\u001b[0m\u001b[0;34m)\u001b[0m \u001b[0;31m#get the next location the piece will move to\u001b[0m\u001b[0;34m\u001b[0m\u001b[0;34m\u001b[0m\u001b[0m\n\u001b[0;32m---> 75\u001b[0;31m       \u001b[0mwinner\u001b[0m \u001b[0;34m=\u001b[0m \u001b[0mfind_path\u001b[0m\u001b[0;34m(\u001b[0m\u001b[0mlocal_maze\u001b[0m\u001b[0;34m,\u001b[0m \u001b[0mscore\u001b[0m\u001b[0;34m,\u001b[0m \u001b[0mmax_score\u001b[0m\u001b[0;34m,\u001b[0m \u001b[0mnext_loc\u001b[0m\u001b[0;34m,\u001b[0m \u001b[0mbarrier_locs\u001b[0m\u001b[0;34m)\u001b[0m \u001b[0;31m#recursively call yourself\u001b[0m\u001b[0;34m\u001b[0m\u001b[0;34m\u001b[0m\u001b[0m\n\u001b[0m\u001b[1;32m     76\u001b[0m       \u001b[0;32mif\u001b[0m \u001b[0mwinner\u001b[0m \u001b[0;32mis\u001b[0m \u001b[0;32mnot\u001b[0m \u001b[0;32mNone\u001b[0m\u001b[0;34m:\u001b[0m\u001b[0;34m\u001b[0m\u001b[0;34m\u001b[0m\u001b[0m\n\u001b[1;32m     77\u001b[0m         \u001b[0mprint_maze\u001b[0m\u001b[0;34m(\u001b[0m\u001b[0mwinner\u001b[0m\u001b[0;34m)\u001b[0m\u001b[0;34m\u001b[0m\u001b[0;34m\u001b[0m\u001b[0m\n",
            "\u001b[0;32m<ipython-input-16-f9946bad7a29>\u001b[0m in \u001b[0;36mfind_path\u001b[0;34m(maze, score, max_score, loc, barrier_locs)\u001b[0m\n\u001b[1;32m     73\u001b[0m \u001b[0;34m\u001b[0m\u001b[0m\n\u001b[1;32m     74\u001b[0m       \u001b[0mnext_loc\u001b[0m \u001b[0;34m=\u001b[0m \u001b[0mnext_neighbors\u001b[0m\u001b[0;34m.\u001b[0m\u001b[0mpop\u001b[0m\u001b[0;34m(\u001b[0m\u001b[0;34m)\u001b[0m \u001b[0;31m#get the next location the piece will move to\u001b[0m\u001b[0;34m\u001b[0m\u001b[0;34m\u001b[0m\u001b[0m\n\u001b[0;32m---> 75\u001b[0;31m       \u001b[0mwinner\u001b[0m \u001b[0;34m=\u001b[0m \u001b[0mfind_path\u001b[0m\u001b[0;34m(\u001b[0m\u001b[0mlocal_maze\u001b[0m\u001b[0;34m,\u001b[0m \u001b[0mscore\u001b[0m\u001b[0;34m,\u001b[0m \u001b[0mmax_score\u001b[0m\u001b[0;34m,\u001b[0m \u001b[0mnext_loc\u001b[0m\u001b[0;34m,\u001b[0m \u001b[0mbarrier_locs\u001b[0m\u001b[0;34m)\u001b[0m \u001b[0;31m#recursively call yourself\u001b[0m\u001b[0;34m\u001b[0m\u001b[0;34m\u001b[0m\u001b[0m\n\u001b[0m\u001b[1;32m     76\u001b[0m       \u001b[0;32mif\u001b[0m \u001b[0mwinner\u001b[0m \u001b[0;32mis\u001b[0m \u001b[0;32mnot\u001b[0m \u001b[0;32mNone\u001b[0m\u001b[0;34m:\u001b[0m\u001b[0;34m\u001b[0m\u001b[0;34m\u001b[0m\u001b[0m\n\u001b[1;32m     77\u001b[0m         \u001b[0mprint_maze\u001b[0m\u001b[0;34m(\u001b[0m\u001b[0mwinner\u001b[0m\u001b[0;34m)\u001b[0m\u001b[0;34m\u001b[0m\u001b[0;34m\u001b[0m\u001b[0m\n",
            "\u001b[0;32m<ipython-input-16-f9946bad7a29>\u001b[0m in \u001b[0;36mfind_path\u001b[0;34m(maze, score, max_score, loc, barrier_locs)\u001b[0m\n\u001b[1;32m     73\u001b[0m \u001b[0;34m\u001b[0m\u001b[0m\n\u001b[1;32m     74\u001b[0m       \u001b[0mnext_loc\u001b[0m \u001b[0;34m=\u001b[0m \u001b[0mnext_neighbors\u001b[0m\u001b[0;34m.\u001b[0m\u001b[0mpop\u001b[0m\u001b[0;34m(\u001b[0m\u001b[0;34m)\u001b[0m \u001b[0;31m#get the next location the piece will move to\u001b[0m\u001b[0;34m\u001b[0m\u001b[0;34m\u001b[0m\u001b[0m\n\u001b[0;32m---> 75\u001b[0;31m       \u001b[0mwinner\u001b[0m \u001b[0;34m=\u001b[0m \u001b[0mfind_path\u001b[0m\u001b[0;34m(\u001b[0m\u001b[0mlocal_maze\u001b[0m\u001b[0;34m,\u001b[0m \u001b[0mscore\u001b[0m\u001b[0;34m,\u001b[0m \u001b[0mmax_score\u001b[0m\u001b[0;34m,\u001b[0m \u001b[0mnext_loc\u001b[0m\u001b[0;34m,\u001b[0m \u001b[0mbarrier_locs\u001b[0m\u001b[0;34m)\u001b[0m \u001b[0;31m#recursively call yourself\u001b[0m\u001b[0;34m\u001b[0m\u001b[0;34m\u001b[0m\u001b[0m\n\u001b[0m\u001b[1;32m     76\u001b[0m       \u001b[0;32mif\u001b[0m \u001b[0mwinner\u001b[0m \u001b[0;32mis\u001b[0m \u001b[0;32mnot\u001b[0m \u001b[0;32mNone\u001b[0m\u001b[0;34m:\u001b[0m\u001b[0;34m\u001b[0m\u001b[0;34m\u001b[0m\u001b[0m\n\u001b[1;32m     77\u001b[0m         \u001b[0mprint_maze\u001b[0m\u001b[0;34m(\u001b[0m\u001b[0mwinner\u001b[0m\u001b[0;34m)\u001b[0m\u001b[0;34m\u001b[0m\u001b[0;34m\u001b[0m\u001b[0m\n",
            "\u001b[0;32m<ipython-input-16-f9946bad7a29>\u001b[0m in \u001b[0;36mfind_path\u001b[0;34m(maze, score, max_score, loc, barrier_locs)\u001b[0m\n\u001b[1;32m     73\u001b[0m \u001b[0;34m\u001b[0m\u001b[0m\n\u001b[1;32m     74\u001b[0m       \u001b[0mnext_loc\u001b[0m \u001b[0;34m=\u001b[0m \u001b[0mnext_neighbors\u001b[0m\u001b[0;34m.\u001b[0m\u001b[0mpop\u001b[0m\u001b[0;34m(\u001b[0m\u001b[0;34m)\u001b[0m \u001b[0;31m#get the next location the piece will move to\u001b[0m\u001b[0;34m\u001b[0m\u001b[0;34m\u001b[0m\u001b[0m\n\u001b[0;32m---> 75\u001b[0;31m       \u001b[0mwinner\u001b[0m \u001b[0;34m=\u001b[0m \u001b[0mfind_path\u001b[0m\u001b[0;34m(\u001b[0m\u001b[0mlocal_maze\u001b[0m\u001b[0;34m,\u001b[0m \u001b[0mscore\u001b[0m\u001b[0;34m,\u001b[0m \u001b[0mmax_score\u001b[0m\u001b[0;34m,\u001b[0m \u001b[0mnext_loc\u001b[0m\u001b[0;34m,\u001b[0m \u001b[0mbarrier_locs\u001b[0m\u001b[0;34m)\u001b[0m \u001b[0;31m#recursively call yourself\u001b[0m\u001b[0;34m\u001b[0m\u001b[0;34m\u001b[0m\u001b[0m\n\u001b[0m\u001b[1;32m     76\u001b[0m       \u001b[0;32mif\u001b[0m \u001b[0mwinner\u001b[0m \u001b[0;32mis\u001b[0m \u001b[0;32mnot\u001b[0m \u001b[0;32mNone\u001b[0m\u001b[0;34m:\u001b[0m\u001b[0;34m\u001b[0m\u001b[0;34m\u001b[0m\u001b[0m\n\u001b[1;32m     77\u001b[0m         \u001b[0mprint_maze\u001b[0m\u001b[0;34m(\u001b[0m\u001b[0mwinner\u001b[0m\u001b[0;34m)\u001b[0m\u001b[0;34m\u001b[0m\u001b[0;34m\u001b[0m\u001b[0m\n",
            "\u001b[0;32m<ipython-input-16-f9946bad7a29>\u001b[0m in \u001b[0;36mfind_path\u001b[0;34m(maze, score, max_score, loc, barrier_locs)\u001b[0m\n\u001b[1;32m     73\u001b[0m \u001b[0;34m\u001b[0m\u001b[0m\n\u001b[1;32m     74\u001b[0m       \u001b[0mnext_loc\u001b[0m \u001b[0;34m=\u001b[0m \u001b[0mnext_neighbors\u001b[0m\u001b[0;34m.\u001b[0m\u001b[0mpop\u001b[0m\u001b[0;34m(\u001b[0m\u001b[0;34m)\u001b[0m \u001b[0;31m#get the next location the piece will move to\u001b[0m\u001b[0;34m\u001b[0m\u001b[0;34m\u001b[0m\u001b[0m\n\u001b[0;32m---> 75\u001b[0;31m       \u001b[0mwinner\u001b[0m \u001b[0;34m=\u001b[0m \u001b[0mfind_path\u001b[0m\u001b[0;34m(\u001b[0m\u001b[0mlocal_maze\u001b[0m\u001b[0;34m,\u001b[0m \u001b[0mscore\u001b[0m\u001b[0;34m,\u001b[0m \u001b[0mmax_score\u001b[0m\u001b[0;34m,\u001b[0m \u001b[0mnext_loc\u001b[0m\u001b[0;34m,\u001b[0m \u001b[0mbarrier_locs\u001b[0m\u001b[0;34m)\u001b[0m \u001b[0;31m#recursively call yourself\u001b[0m\u001b[0;34m\u001b[0m\u001b[0;34m\u001b[0m\u001b[0m\n\u001b[0m\u001b[1;32m     76\u001b[0m       \u001b[0;32mif\u001b[0m \u001b[0mwinner\u001b[0m \u001b[0;32mis\u001b[0m \u001b[0;32mnot\u001b[0m \u001b[0;32mNone\u001b[0m\u001b[0;34m:\u001b[0m\u001b[0;34m\u001b[0m\u001b[0;34m\u001b[0m\u001b[0m\n\u001b[1;32m     77\u001b[0m         \u001b[0mprint_maze\u001b[0m\u001b[0;34m(\u001b[0m\u001b[0mwinner\u001b[0m\u001b[0;34m)\u001b[0m\u001b[0;34m\u001b[0m\u001b[0;34m\u001b[0m\u001b[0m\n",
            "\u001b[0;32m<ipython-input-16-f9946bad7a29>\u001b[0m in \u001b[0;36mfind_path\u001b[0;34m(maze, score, max_score, loc, barrier_locs)\u001b[0m\n\u001b[1;32m     73\u001b[0m \u001b[0;34m\u001b[0m\u001b[0m\n\u001b[1;32m     74\u001b[0m       \u001b[0mnext_loc\u001b[0m \u001b[0;34m=\u001b[0m \u001b[0mnext_neighbors\u001b[0m\u001b[0;34m.\u001b[0m\u001b[0mpop\u001b[0m\u001b[0;34m(\u001b[0m\u001b[0;34m)\u001b[0m \u001b[0;31m#get the next location the piece will move to\u001b[0m\u001b[0;34m\u001b[0m\u001b[0;34m\u001b[0m\u001b[0m\n\u001b[0;32m---> 75\u001b[0;31m       \u001b[0mwinner\u001b[0m \u001b[0;34m=\u001b[0m \u001b[0mfind_path\u001b[0m\u001b[0;34m(\u001b[0m\u001b[0mlocal_maze\u001b[0m\u001b[0;34m,\u001b[0m \u001b[0mscore\u001b[0m\u001b[0;34m,\u001b[0m \u001b[0mmax_score\u001b[0m\u001b[0;34m,\u001b[0m \u001b[0mnext_loc\u001b[0m\u001b[0;34m,\u001b[0m \u001b[0mbarrier_locs\u001b[0m\u001b[0;34m)\u001b[0m \u001b[0;31m#recursively call yourself\u001b[0m\u001b[0;34m\u001b[0m\u001b[0;34m\u001b[0m\u001b[0m\n\u001b[0m\u001b[1;32m     76\u001b[0m       \u001b[0;32mif\u001b[0m \u001b[0mwinner\u001b[0m \u001b[0;32mis\u001b[0m \u001b[0;32mnot\u001b[0m \u001b[0;32mNone\u001b[0m\u001b[0;34m:\u001b[0m\u001b[0;34m\u001b[0m\u001b[0;34m\u001b[0m\u001b[0m\n\u001b[1;32m     77\u001b[0m         \u001b[0mprint_maze\u001b[0m\u001b[0;34m(\u001b[0m\u001b[0mwinner\u001b[0m\u001b[0;34m)\u001b[0m\u001b[0;34m\u001b[0m\u001b[0;34m\u001b[0m\u001b[0m\n",
            "\u001b[0;32m<ipython-input-16-f9946bad7a29>\u001b[0m in \u001b[0;36mfind_path\u001b[0;34m(maze, score, max_score, loc, barrier_locs)\u001b[0m\n\u001b[1;32m     73\u001b[0m \u001b[0;34m\u001b[0m\u001b[0m\n\u001b[1;32m     74\u001b[0m       \u001b[0mnext_loc\u001b[0m \u001b[0;34m=\u001b[0m \u001b[0mnext_neighbors\u001b[0m\u001b[0;34m.\u001b[0m\u001b[0mpop\u001b[0m\u001b[0;34m(\u001b[0m\u001b[0;34m)\u001b[0m \u001b[0;31m#get the next location the piece will move to\u001b[0m\u001b[0;34m\u001b[0m\u001b[0;34m\u001b[0m\u001b[0m\n\u001b[0;32m---> 75\u001b[0;31m       \u001b[0mwinner\u001b[0m \u001b[0;34m=\u001b[0m \u001b[0mfind_path\u001b[0m\u001b[0;34m(\u001b[0m\u001b[0mlocal_maze\u001b[0m\u001b[0;34m,\u001b[0m \u001b[0mscore\u001b[0m\u001b[0;34m,\u001b[0m \u001b[0mmax_score\u001b[0m\u001b[0;34m,\u001b[0m \u001b[0mnext_loc\u001b[0m\u001b[0;34m,\u001b[0m \u001b[0mbarrier_locs\u001b[0m\u001b[0;34m)\u001b[0m \u001b[0;31m#recursively call yourself\u001b[0m\u001b[0;34m\u001b[0m\u001b[0;34m\u001b[0m\u001b[0m\n\u001b[0m\u001b[1;32m     76\u001b[0m       \u001b[0;32mif\u001b[0m \u001b[0mwinner\u001b[0m \u001b[0;32mis\u001b[0m \u001b[0;32mnot\u001b[0m \u001b[0;32mNone\u001b[0m\u001b[0;34m:\u001b[0m\u001b[0;34m\u001b[0m\u001b[0;34m\u001b[0m\u001b[0m\n\u001b[1;32m     77\u001b[0m         \u001b[0mprint_maze\u001b[0m\u001b[0;34m(\u001b[0m\u001b[0mwinner\u001b[0m\u001b[0;34m)\u001b[0m\u001b[0;34m\u001b[0m\u001b[0;34m\u001b[0m\u001b[0m\n",
            "\u001b[0;32m<ipython-input-16-f9946bad7a29>\u001b[0m in \u001b[0;36mfind_path\u001b[0;34m(maze, score, max_score, loc, barrier_locs)\u001b[0m\n\u001b[1;32m     73\u001b[0m \u001b[0;34m\u001b[0m\u001b[0m\n\u001b[1;32m     74\u001b[0m       \u001b[0mnext_loc\u001b[0m \u001b[0;34m=\u001b[0m \u001b[0mnext_neighbors\u001b[0m\u001b[0;34m.\u001b[0m\u001b[0mpop\u001b[0m\u001b[0;34m(\u001b[0m\u001b[0;34m)\u001b[0m \u001b[0;31m#get the next location the piece will move to\u001b[0m\u001b[0;34m\u001b[0m\u001b[0;34m\u001b[0m\u001b[0m\n\u001b[0;32m---> 75\u001b[0;31m       \u001b[0mwinner\u001b[0m \u001b[0;34m=\u001b[0m \u001b[0mfind_path\u001b[0m\u001b[0;34m(\u001b[0m\u001b[0mlocal_maze\u001b[0m\u001b[0;34m,\u001b[0m \u001b[0mscore\u001b[0m\u001b[0;34m,\u001b[0m \u001b[0mmax_score\u001b[0m\u001b[0;34m,\u001b[0m \u001b[0mnext_loc\u001b[0m\u001b[0;34m,\u001b[0m \u001b[0mbarrier_locs\u001b[0m\u001b[0;34m)\u001b[0m \u001b[0;31m#recursively call yourself\u001b[0m\u001b[0;34m\u001b[0m\u001b[0;34m\u001b[0m\u001b[0m\n\u001b[0m\u001b[1;32m     76\u001b[0m       \u001b[0;32mif\u001b[0m \u001b[0mwinner\u001b[0m \u001b[0;32mis\u001b[0m \u001b[0;32mnot\u001b[0m \u001b[0;32mNone\u001b[0m\u001b[0;34m:\u001b[0m\u001b[0;34m\u001b[0m\u001b[0;34m\u001b[0m\u001b[0m\n\u001b[1;32m     77\u001b[0m         \u001b[0mprint_maze\u001b[0m\u001b[0;34m(\u001b[0m\u001b[0mwinner\u001b[0m\u001b[0;34m)\u001b[0m\u001b[0;34m\u001b[0m\u001b[0;34m\u001b[0m\u001b[0m\n",
            "\u001b[0;32m<ipython-input-16-f9946bad7a29>\u001b[0m in \u001b[0;36mfind_path\u001b[0;34m(maze, score, max_score, loc, barrier_locs)\u001b[0m\n\u001b[1;32m     73\u001b[0m \u001b[0;34m\u001b[0m\u001b[0m\n\u001b[1;32m     74\u001b[0m       \u001b[0mnext_loc\u001b[0m \u001b[0;34m=\u001b[0m \u001b[0mnext_neighbors\u001b[0m\u001b[0;34m.\u001b[0m\u001b[0mpop\u001b[0m\u001b[0;34m(\u001b[0m\u001b[0;34m)\u001b[0m \u001b[0;31m#get the next location the piece will move to\u001b[0m\u001b[0;34m\u001b[0m\u001b[0;34m\u001b[0m\u001b[0m\n\u001b[0;32m---> 75\u001b[0;31m       \u001b[0mwinner\u001b[0m \u001b[0;34m=\u001b[0m \u001b[0mfind_path\u001b[0m\u001b[0;34m(\u001b[0m\u001b[0mlocal_maze\u001b[0m\u001b[0;34m,\u001b[0m \u001b[0mscore\u001b[0m\u001b[0;34m,\u001b[0m \u001b[0mmax_score\u001b[0m\u001b[0;34m,\u001b[0m \u001b[0mnext_loc\u001b[0m\u001b[0;34m,\u001b[0m \u001b[0mbarrier_locs\u001b[0m\u001b[0;34m)\u001b[0m \u001b[0;31m#recursively call yourself\u001b[0m\u001b[0;34m\u001b[0m\u001b[0;34m\u001b[0m\u001b[0m\n\u001b[0m\u001b[1;32m     76\u001b[0m       \u001b[0;32mif\u001b[0m \u001b[0mwinner\u001b[0m \u001b[0;32mis\u001b[0m \u001b[0;32mnot\u001b[0m \u001b[0;32mNone\u001b[0m\u001b[0;34m:\u001b[0m\u001b[0;34m\u001b[0m\u001b[0;34m\u001b[0m\u001b[0m\n\u001b[1;32m     77\u001b[0m         \u001b[0mprint_maze\u001b[0m\u001b[0;34m(\u001b[0m\u001b[0mwinner\u001b[0m\u001b[0;34m)\u001b[0m\u001b[0;34m\u001b[0m\u001b[0;34m\u001b[0m\u001b[0m\n",
            "\u001b[0;32m<ipython-input-16-f9946bad7a29>\u001b[0m in \u001b[0;36mfind_path\u001b[0;34m(maze, score, max_score, loc, barrier_locs)\u001b[0m\n\u001b[1;32m     73\u001b[0m \u001b[0;34m\u001b[0m\u001b[0m\n\u001b[1;32m     74\u001b[0m       \u001b[0mnext_loc\u001b[0m \u001b[0;34m=\u001b[0m \u001b[0mnext_neighbors\u001b[0m\u001b[0;34m.\u001b[0m\u001b[0mpop\u001b[0m\u001b[0;34m(\u001b[0m\u001b[0;34m)\u001b[0m \u001b[0;31m#get the next location the piece will move to\u001b[0m\u001b[0;34m\u001b[0m\u001b[0;34m\u001b[0m\u001b[0m\n\u001b[0;32m---> 75\u001b[0;31m       \u001b[0mwinner\u001b[0m \u001b[0;34m=\u001b[0m \u001b[0mfind_path\u001b[0m\u001b[0;34m(\u001b[0m\u001b[0mlocal_maze\u001b[0m\u001b[0;34m,\u001b[0m \u001b[0mscore\u001b[0m\u001b[0;34m,\u001b[0m \u001b[0mmax_score\u001b[0m\u001b[0;34m,\u001b[0m \u001b[0mnext_loc\u001b[0m\u001b[0;34m,\u001b[0m \u001b[0mbarrier_locs\u001b[0m\u001b[0;34m)\u001b[0m \u001b[0;31m#recursively call yourself\u001b[0m\u001b[0;34m\u001b[0m\u001b[0;34m\u001b[0m\u001b[0m\n\u001b[0m\u001b[1;32m     76\u001b[0m       \u001b[0;32mif\u001b[0m \u001b[0mwinner\u001b[0m \u001b[0;32mis\u001b[0m \u001b[0;32mnot\u001b[0m \u001b[0;32mNone\u001b[0m\u001b[0;34m:\u001b[0m\u001b[0;34m\u001b[0m\u001b[0;34m\u001b[0m\u001b[0m\n\u001b[1;32m     77\u001b[0m         \u001b[0mprint_maze\u001b[0m\u001b[0;34m(\u001b[0m\u001b[0mwinner\u001b[0m\u001b[0;34m)\u001b[0m\u001b[0;34m\u001b[0m\u001b[0;34m\u001b[0m\u001b[0m\n",
            "\u001b[0;32m<ipython-input-16-f9946bad7a29>\u001b[0m in \u001b[0;36mfind_path\u001b[0;34m(maze, score, max_score, loc, barrier_locs)\u001b[0m\n\u001b[1;32m     73\u001b[0m \u001b[0;34m\u001b[0m\u001b[0m\n\u001b[1;32m     74\u001b[0m       \u001b[0mnext_loc\u001b[0m \u001b[0;34m=\u001b[0m \u001b[0mnext_neighbors\u001b[0m\u001b[0;34m.\u001b[0m\u001b[0mpop\u001b[0m\u001b[0;34m(\u001b[0m\u001b[0;34m)\u001b[0m \u001b[0;31m#get the next location the piece will move to\u001b[0m\u001b[0;34m\u001b[0m\u001b[0;34m\u001b[0m\u001b[0m\n\u001b[0;32m---> 75\u001b[0;31m       \u001b[0mwinner\u001b[0m \u001b[0;34m=\u001b[0m \u001b[0mfind_path\u001b[0m\u001b[0;34m(\u001b[0m\u001b[0mlocal_maze\u001b[0m\u001b[0;34m,\u001b[0m \u001b[0mscore\u001b[0m\u001b[0;34m,\u001b[0m \u001b[0mmax_score\u001b[0m\u001b[0;34m,\u001b[0m \u001b[0mnext_loc\u001b[0m\u001b[0;34m,\u001b[0m \u001b[0mbarrier_locs\u001b[0m\u001b[0;34m)\u001b[0m \u001b[0;31m#recursively call yourself\u001b[0m\u001b[0;34m\u001b[0m\u001b[0;34m\u001b[0m\u001b[0m\n\u001b[0m\u001b[1;32m     76\u001b[0m       \u001b[0;32mif\u001b[0m \u001b[0mwinner\u001b[0m \u001b[0;32mis\u001b[0m \u001b[0;32mnot\u001b[0m \u001b[0;32mNone\u001b[0m\u001b[0;34m:\u001b[0m\u001b[0;34m\u001b[0m\u001b[0;34m\u001b[0m\u001b[0m\n\u001b[1;32m     77\u001b[0m         \u001b[0mprint_maze\u001b[0m\u001b[0;34m(\u001b[0m\u001b[0mwinner\u001b[0m\u001b[0;34m)\u001b[0m\u001b[0;34m\u001b[0m\u001b[0;34m\u001b[0m\u001b[0m\n",
            "\u001b[0;32m<ipython-input-16-f9946bad7a29>\u001b[0m in \u001b[0;36mfind_path\u001b[0;34m(maze, score, max_score, loc, barrier_locs)\u001b[0m\n\u001b[1;32m     73\u001b[0m \u001b[0;34m\u001b[0m\u001b[0m\n\u001b[1;32m     74\u001b[0m       \u001b[0mnext_loc\u001b[0m \u001b[0;34m=\u001b[0m \u001b[0mnext_neighbors\u001b[0m\u001b[0;34m.\u001b[0m\u001b[0mpop\u001b[0m\u001b[0;34m(\u001b[0m\u001b[0;34m)\u001b[0m \u001b[0;31m#get the next location the piece will move to\u001b[0m\u001b[0;34m\u001b[0m\u001b[0;34m\u001b[0m\u001b[0m\n\u001b[0;32m---> 75\u001b[0;31m       \u001b[0mwinner\u001b[0m \u001b[0;34m=\u001b[0m \u001b[0mfind_path\u001b[0m\u001b[0;34m(\u001b[0m\u001b[0mlocal_maze\u001b[0m\u001b[0;34m,\u001b[0m \u001b[0mscore\u001b[0m\u001b[0;34m,\u001b[0m \u001b[0mmax_score\u001b[0m\u001b[0;34m,\u001b[0m \u001b[0mnext_loc\u001b[0m\u001b[0;34m,\u001b[0m \u001b[0mbarrier_locs\u001b[0m\u001b[0;34m)\u001b[0m \u001b[0;31m#recursively call yourself\u001b[0m\u001b[0;34m\u001b[0m\u001b[0;34m\u001b[0m\u001b[0m\n\u001b[0m\u001b[1;32m     76\u001b[0m       \u001b[0;32mif\u001b[0m \u001b[0mwinner\u001b[0m \u001b[0;32mis\u001b[0m \u001b[0;32mnot\u001b[0m \u001b[0;32mNone\u001b[0m\u001b[0;34m:\u001b[0m\u001b[0;34m\u001b[0m\u001b[0;34m\u001b[0m\u001b[0m\n\u001b[1;32m     77\u001b[0m         \u001b[0mprint_maze\u001b[0m\u001b[0;34m(\u001b[0m\u001b[0mwinner\u001b[0m\u001b[0;34m)\u001b[0m\u001b[0;34m\u001b[0m\u001b[0;34m\u001b[0m\u001b[0m\n",
            "\u001b[0;32m<ipython-input-16-f9946bad7a29>\u001b[0m in \u001b[0;36mfind_path\u001b[0;34m(maze, score, max_score, loc, barrier_locs)\u001b[0m\n\u001b[1;32m     73\u001b[0m \u001b[0;34m\u001b[0m\u001b[0m\n\u001b[1;32m     74\u001b[0m       \u001b[0mnext_loc\u001b[0m \u001b[0;34m=\u001b[0m \u001b[0mnext_neighbors\u001b[0m\u001b[0;34m.\u001b[0m\u001b[0mpop\u001b[0m\u001b[0;34m(\u001b[0m\u001b[0;34m)\u001b[0m \u001b[0;31m#get the next location the piece will move to\u001b[0m\u001b[0;34m\u001b[0m\u001b[0;34m\u001b[0m\u001b[0m\n\u001b[0;32m---> 75\u001b[0;31m       \u001b[0mwinner\u001b[0m \u001b[0;34m=\u001b[0m \u001b[0mfind_path\u001b[0m\u001b[0;34m(\u001b[0m\u001b[0mlocal_maze\u001b[0m\u001b[0;34m,\u001b[0m \u001b[0mscore\u001b[0m\u001b[0;34m,\u001b[0m \u001b[0mmax_score\u001b[0m\u001b[0;34m,\u001b[0m \u001b[0mnext_loc\u001b[0m\u001b[0;34m,\u001b[0m \u001b[0mbarrier_locs\u001b[0m\u001b[0;34m)\u001b[0m \u001b[0;31m#recursively call yourself\u001b[0m\u001b[0;34m\u001b[0m\u001b[0;34m\u001b[0m\u001b[0m\n\u001b[0m\u001b[1;32m     76\u001b[0m       \u001b[0;32mif\u001b[0m \u001b[0mwinner\u001b[0m \u001b[0;32mis\u001b[0m \u001b[0;32mnot\u001b[0m \u001b[0;32mNone\u001b[0m\u001b[0;34m:\u001b[0m\u001b[0;34m\u001b[0m\u001b[0;34m\u001b[0m\u001b[0m\n\u001b[1;32m     77\u001b[0m         \u001b[0mprint_maze\u001b[0m\u001b[0;34m(\u001b[0m\u001b[0mwinner\u001b[0m\u001b[0;34m)\u001b[0m\u001b[0;34m\u001b[0m\u001b[0;34m\u001b[0m\u001b[0m\n",
            "\u001b[0;32m<ipython-input-16-f9946bad7a29>\u001b[0m in \u001b[0;36mfind_path\u001b[0;34m(maze, score, max_score, loc, barrier_locs)\u001b[0m\n\u001b[1;32m     73\u001b[0m \u001b[0;34m\u001b[0m\u001b[0m\n\u001b[1;32m     74\u001b[0m       \u001b[0mnext_loc\u001b[0m \u001b[0;34m=\u001b[0m \u001b[0mnext_neighbors\u001b[0m\u001b[0;34m.\u001b[0m\u001b[0mpop\u001b[0m\u001b[0;34m(\u001b[0m\u001b[0;34m)\u001b[0m \u001b[0;31m#get the next location the piece will move to\u001b[0m\u001b[0;34m\u001b[0m\u001b[0;34m\u001b[0m\u001b[0m\n\u001b[0;32m---> 75\u001b[0;31m       \u001b[0mwinner\u001b[0m \u001b[0;34m=\u001b[0m \u001b[0mfind_path\u001b[0m\u001b[0;34m(\u001b[0m\u001b[0mlocal_maze\u001b[0m\u001b[0;34m,\u001b[0m \u001b[0mscore\u001b[0m\u001b[0;34m,\u001b[0m \u001b[0mmax_score\u001b[0m\u001b[0;34m,\u001b[0m \u001b[0mnext_loc\u001b[0m\u001b[0;34m,\u001b[0m \u001b[0mbarrier_locs\u001b[0m\u001b[0;34m)\u001b[0m \u001b[0;31m#recursively call yourself\u001b[0m\u001b[0;34m\u001b[0m\u001b[0;34m\u001b[0m\u001b[0m\n\u001b[0m\u001b[1;32m     76\u001b[0m       \u001b[0;32mif\u001b[0m \u001b[0mwinner\u001b[0m \u001b[0;32mis\u001b[0m \u001b[0;32mnot\u001b[0m \u001b[0;32mNone\u001b[0m\u001b[0;34m:\u001b[0m\u001b[0;34m\u001b[0m\u001b[0;34m\u001b[0m\u001b[0m\n\u001b[1;32m     77\u001b[0m         \u001b[0mprint_maze\u001b[0m\u001b[0;34m(\u001b[0m\u001b[0mwinner\u001b[0m\u001b[0;34m)\u001b[0m\u001b[0;34m\u001b[0m\u001b[0;34m\u001b[0m\u001b[0m\n",
            "\u001b[0;32m<ipython-input-16-f9946bad7a29>\u001b[0m in \u001b[0;36mfind_path\u001b[0;34m(maze, score, max_score, loc, barrier_locs)\u001b[0m\n\u001b[1;32m     73\u001b[0m \u001b[0;34m\u001b[0m\u001b[0m\n\u001b[1;32m     74\u001b[0m       \u001b[0mnext_loc\u001b[0m \u001b[0;34m=\u001b[0m \u001b[0mnext_neighbors\u001b[0m\u001b[0;34m.\u001b[0m\u001b[0mpop\u001b[0m\u001b[0;34m(\u001b[0m\u001b[0;34m)\u001b[0m \u001b[0;31m#get the next location the piece will move to\u001b[0m\u001b[0;34m\u001b[0m\u001b[0;34m\u001b[0m\u001b[0m\n\u001b[0;32m---> 75\u001b[0;31m       \u001b[0mwinner\u001b[0m \u001b[0;34m=\u001b[0m \u001b[0mfind_path\u001b[0m\u001b[0;34m(\u001b[0m\u001b[0mlocal_maze\u001b[0m\u001b[0;34m,\u001b[0m \u001b[0mscore\u001b[0m\u001b[0;34m,\u001b[0m \u001b[0mmax_score\u001b[0m\u001b[0;34m,\u001b[0m \u001b[0mnext_loc\u001b[0m\u001b[0;34m,\u001b[0m \u001b[0mbarrier_locs\u001b[0m\u001b[0;34m)\u001b[0m \u001b[0;31m#recursively call yourself\u001b[0m\u001b[0;34m\u001b[0m\u001b[0;34m\u001b[0m\u001b[0m\n\u001b[0m\u001b[1;32m     76\u001b[0m       \u001b[0;32mif\u001b[0m \u001b[0mwinner\u001b[0m \u001b[0;32mis\u001b[0m \u001b[0;32mnot\u001b[0m \u001b[0;32mNone\u001b[0m\u001b[0;34m:\u001b[0m\u001b[0;34m\u001b[0m\u001b[0;34m\u001b[0m\u001b[0m\n\u001b[1;32m     77\u001b[0m         \u001b[0mprint_maze\u001b[0m\u001b[0;34m(\u001b[0m\u001b[0mwinner\u001b[0m\u001b[0;34m)\u001b[0m\u001b[0;34m\u001b[0m\u001b[0;34m\u001b[0m\u001b[0m\n",
            "\u001b[0;32m<ipython-input-16-f9946bad7a29>\u001b[0m in \u001b[0;36mfind_path\u001b[0;34m(maze, score, max_score, loc, barrier_locs)\u001b[0m\n\u001b[1;32m     73\u001b[0m \u001b[0;34m\u001b[0m\u001b[0m\n\u001b[1;32m     74\u001b[0m       \u001b[0mnext_loc\u001b[0m \u001b[0;34m=\u001b[0m \u001b[0mnext_neighbors\u001b[0m\u001b[0;34m.\u001b[0m\u001b[0mpop\u001b[0m\u001b[0;34m(\u001b[0m\u001b[0;34m)\u001b[0m \u001b[0;31m#get the next location the piece will move to\u001b[0m\u001b[0;34m\u001b[0m\u001b[0;34m\u001b[0m\u001b[0m\n\u001b[0;32m---> 75\u001b[0;31m       \u001b[0mwinner\u001b[0m \u001b[0;34m=\u001b[0m \u001b[0mfind_path\u001b[0m\u001b[0;34m(\u001b[0m\u001b[0mlocal_maze\u001b[0m\u001b[0;34m,\u001b[0m \u001b[0mscore\u001b[0m\u001b[0;34m,\u001b[0m \u001b[0mmax_score\u001b[0m\u001b[0;34m,\u001b[0m \u001b[0mnext_loc\u001b[0m\u001b[0;34m,\u001b[0m \u001b[0mbarrier_locs\u001b[0m\u001b[0;34m)\u001b[0m \u001b[0;31m#recursively call yourself\u001b[0m\u001b[0;34m\u001b[0m\u001b[0;34m\u001b[0m\u001b[0m\n\u001b[0m\u001b[1;32m     76\u001b[0m       \u001b[0;32mif\u001b[0m \u001b[0mwinner\u001b[0m \u001b[0;32mis\u001b[0m \u001b[0;32mnot\u001b[0m \u001b[0;32mNone\u001b[0m\u001b[0;34m:\u001b[0m\u001b[0;34m\u001b[0m\u001b[0;34m\u001b[0m\u001b[0m\n\u001b[1;32m     77\u001b[0m         \u001b[0mprint_maze\u001b[0m\u001b[0;34m(\u001b[0m\u001b[0mwinner\u001b[0m\u001b[0;34m)\u001b[0m\u001b[0;34m\u001b[0m\u001b[0;34m\u001b[0m\u001b[0m\n",
            "\u001b[0;32m<ipython-input-16-f9946bad7a29>\u001b[0m in \u001b[0;36mfind_path\u001b[0;34m(maze, score, max_score, loc, barrier_locs)\u001b[0m\n\u001b[1;32m     73\u001b[0m \u001b[0;34m\u001b[0m\u001b[0m\n\u001b[1;32m     74\u001b[0m       \u001b[0mnext_loc\u001b[0m \u001b[0;34m=\u001b[0m \u001b[0mnext_neighbors\u001b[0m\u001b[0;34m.\u001b[0m\u001b[0mpop\u001b[0m\u001b[0;34m(\u001b[0m\u001b[0;34m)\u001b[0m \u001b[0;31m#get the next location the piece will move to\u001b[0m\u001b[0;34m\u001b[0m\u001b[0;34m\u001b[0m\u001b[0m\n\u001b[0;32m---> 75\u001b[0;31m       \u001b[0mwinner\u001b[0m \u001b[0;34m=\u001b[0m \u001b[0mfind_path\u001b[0m\u001b[0;34m(\u001b[0m\u001b[0mlocal_maze\u001b[0m\u001b[0;34m,\u001b[0m \u001b[0mscore\u001b[0m\u001b[0;34m,\u001b[0m \u001b[0mmax_score\u001b[0m\u001b[0;34m,\u001b[0m \u001b[0mnext_loc\u001b[0m\u001b[0;34m,\u001b[0m \u001b[0mbarrier_locs\u001b[0m\u001b[0;34m)\u001b[0m \u001b[0;31m#recursively call yourself\u001b[0m\u001b[0;34m\u001b[0m\u001b[0;34m\u001b[0m\u001b[0m\n\u001b[0m\u001b[1;32m     76\u001b[0m       \u001b[0;32mif\u001b[0m \u001b[0mwinner\u001b[0m \u001b[0;32mis\u001b[0m \u001b[0;32mnot\u001b[0m \u001b[0;32mNone\u001b[0m\u001b[0;34m:\u001b[0m\u001b[0;34m\u001b[0m\u001b[0;34m\u001b[0m\u001b[0m\n\u001b[1;32m     77\u001b[0m         \u001b[0mprint_maze\u001b[0m\u001b[0;34m(\u001b[0m\u001b[0mwinner\u001b[0m\u001b[0;34m)\u001b[0m\u001b[0;34m\u001b[0m\u001b[0;34m\u001b[0m\u001b[0m\n",
            "\u001b[0;32m<ipython-input-16-f9946bad7a29>\u001b[0m in \u001b[0;36mfind_path\u001b[0;34m(maze, score, max_score, loc, barrier_locs)\u001b[0m\n\u001b[1;32m     73\u001b[0m \u001b[0;34m\u001b[0m\u001b[0m\n\u001b[1;32m     74\u001b[0m       \u001b[0mnext_loc\u001b[0m \u001b[0;34m=\u001b[0m \u001b[0mnext_neighbors\u001b[0m\u001b[0;34m.\u001b[0m\u001b[0mpop\u001b[0m\u001b[0;34m(\u001b[0m\u001b[0;34m)\u001b[0m \u001b[0;31m#get the next location the piece will move to\u001b[0m\u001b[0;34m\u001b[0m\u001b[0;34m\u001b[0m\u001b[0m\n\u001b[0;32m---> 75\u001b[0;31m       \u001b[0mwinner\u001b[0m \u001b[0;34m=\u001b[0m \u001b[0mfind_path\u001b[0m\u001b[0;34m(\u001b[0m\u001b[0mlocal_maze\u001b[0m\u001b[0;34m,\u001b[0m \u001b[0mscore\u001b[0m\u001b[0;34m,\u001b[0m \u001b[0mmax_score\u001b[0m\u001b[0;34m,\u001b[0m \u001b[0mnext_loc\u001b[0m\u001b[0;34m,\u001b[0m \u001b[0mbarrier_locs\u001b[0m\u001b[0;34m)\u001b[0m \u001b[0;31m#recursively call yourself\u001b[0m\u001b[0;34m\u001b[0m\u001b[0;34m\u001b[0m\u001b[0m\n\u001b[0m\u001b[1;32m     76\u001b[0m       \u001b[0;32mif\u001b[0m \u001b[0mwinner\u001b[0m \u001b[0;32mis\u001b[0m \u001b[0;32mnot\u001b[0m \u001b[0;32mNone\u001b[0m\u001b[0;34m:\u001b[0m\u001b[0;34m\u001b[0m\u001b[0;34m\u001b[0m\u001b[0m\n\u001b[1;32m     77\u001b[0m         \u001b[0mprint_maze\u001b[0m\u001b[0;34m(\u001b[0m\u001b[0mwinner\u001b[0m\u001b[0;34m)\u001b[0m\u001b[0;34m\u001b[0m\u001b[0;34m\u001b[0m\u001b[0m\n",
            "\u001b[0;32m<ipython-input-16-f9946bad7a29>\u001b[0m in \u001b[0;36mfind_path\u001b[0;34m(maze, score, max_score, loc, barrier_locs)\u001b[0m\n\u001b[1;32m     73\u001b[0m \u001b[0;34m\u001b[0m\u001b[0m\n\u001b[1;32m     74\u001b[0m       \u001b[0mnext_loc\u001b[0m \u001b[0;34m=\u001b[0m \u001b[0mnext_neighbors\u001b[0m\u001b[0;34m.\u001b[0m\u001b[0mpop\u001b[0m\u001b[0;34m(\u001b[0m\u001b[0;34m)\u001b[0m \u001b[0;31m#get the next location the piece will move to\u001b[0m\u001b[0;34m\u001b[0m\u001b[0;34m\u001b[0m\u001b[0m\n\u001b[0;32m---> 75\u001b[0;31m       \u001b[0mwinner\u001b[0m \u001b[0;34m=\u001b[0m \u001b[0mfind_path\u001b[0m\u001b[0;34m(\u001b[0m\u001b[0mlocal_maze\u001b[0m\u001b[0;34m,\u001b[0m \u001b[0mscore\u001b[0m\u001b[0;34m,\u001b[0m \u001b[0mmax_score\u001b[0m\u001b[0;34m,\u001b[0m \u001b[0mnext_loc\u001b[0m\u001b[0;34m,\u001b[0m \u001b[0mbarrier_locs\u001b[0m\u001b[0;34m)\u001b[0m \u001b[0;31m#recursively call yourself\u001b[0m\u001b[0;34m\u001b[0m\u001b[0;34m\u001b[0m\u001b[0m\n\u001b[0m\u001b[1;32m     76\u001b[0m       \u001b[0;32mif\u001b[0m \u001b[0mwinner\u001b[0m \u001b[0;32mis\u001b[0m \u001b[0;32mnot\u001b[0m \u001b[0;32mNone\u001b[0m\u001b[0;34m:\u001b[0m\u001b[0;34m\u001b[0m\u001b[0;34m\u001b[0m\u001b[0m\n\u001b[1;32m     77\u001b[0m         \u001b[0mprint_maze\u001b[0m\u001b[0;34m(\u001b[0m\u001b[0mwinner\u001b[0m\u001b[0;34m)\u001b[0m\u001b[0;34m\u001b[0m\u001b[0;34m\u001b[0m\u001b[0m\n",
            "\u001b[0;32m<ipython-input-16-f9946bad7a29>\u001b[0m in \u001b[0;36mfind_path\u001b[0;34m(maze, score, max_score, loc, barrier_locs)\u001b[0m\n\u001b[1;32m     73\u001b[0m \u001b[0;34m\u001b[0m\u001b[0m\n\u001b[1;32m     74\u001b[0m       \u001b[0mnext_loc\u001b[0m \u001b[0;34m=\u001b[0m \u001b[0mnext_neighbors\u001b[0m\u001b[0;34m.\u001b[0m\u001b[0mpop\u001b[0m\u001b[0;34m(\u001b[0m\u001b[0;34m)\u001b[0m \u001b[0;31m#get the next location the piece will move to\u001b[0m\u001b[0;34m\u001b[0m\u001b[0;34m\u001b[0m\u001b[0m\n\u001b[0;32m---> 75\u001b[0;31m       \u001b[0mwinner\u001b[0m \u001b[0;34m=\u001b[0m \u001b[0mfind_path\u001b[0m\u001b[0;34m(\u001b[0m\u001b[0mlocal_maze\u001b[0m\u001b[0;34m,\u001b[0m \u001b[0mscore\u001b[0m\u001b[0;34m,\u001b[0m \u001b[0mmax_score\u001b[0m\u001b[0;34m,\u001b[0m \u001b[0mnext_loc\u001b[0m\u001b[0;34m,\u001b[0m \u001b[0mbarrier_locs\u001b[0m\u001b[0;34m)\u001b[0m \u001b[0;31m#recursively call yourself\u001b[0m\u001b[0;34m\u001b[0m\u001b[0;34m\u001b[0m\u001b[0m\n\u001b[0m\u001b[1;32m     76\u001b[0m       \u001b[0;32mif\u001b[0m \u001b[0mwinner\u001b[0m \u001b[0;32mis\u001b[0m \u001b[0;32mnot\u001b[0m \u001b[0;32mNone\u001b[0m\u001b[0;34m:\u001b[0m\u001b[0;34m\u001b[0m\u001b[0;34m\u001b[0m\u001b[0m\n\u001b[1;32m     77\u001b[0m         \u001b[0mprint_maze\u001b[0m\u001b[0;34m(\u001b[0m\u001b[0mwinner\u001b[0m\u001b[0;34m)\u001b[0m\u001b[0;34m\u001b[0m\u001b[0;34m\u001b[0m\u001b[0m\n",
            "\u001b[0;32m<ipython-input-16-f9946bad7a29>\u001b[0m in \u001b[0;36mfind_path\u001b[0;34m(maze, score, max_score, loc, barrier_locs)\u001b[0m\n\u001b[1;32m     73\u001b[0m \u001b[0;34m\u001b[0m\u001b[0m\n\u001b[1;32m     74\u001b[0m       \u001b[0mnext_loc\u001b[0m \u001b[0;34m=\u001b[0m \u001b[0mnext_neighbors\u001b[0m\u001b[0;34m.\u001b[0m\u001b[0mpop\u001b[0m\u001b[0;34m(\u001b[0m\u001b[0;34m)\u001b[0m \u001b[0;31m#get the next location the piece will move to\u001b[0m\u001b[0;34m\u001b[0m\u001b[0;34m\u001b[0m\u001b[0m\n\u001b[0;32m---> 75\u001b[0;31m       \u001b[0mwinner\u001b[0m \u001b[0;34m=\u001b[0m \u001b[0mfind_path\u001b[0m\u001b[0;34m(\u001b[0m\u001b[0mlocal_maze\u001b[0m\u001b[0;34m,\u001b[0m \u001b[0mscore\u001b[0m\u001b[0;34m,\u001b[0m \u001b[0mmax_score\u001b[0m\u001b[0;34m,\u001b[0m \u001b[0mnext_loc\u001b[0m\u001b[0;34m,\u001b[0m \u001b[0mbarrier_locs\u001b[0m\u001b[0;34m)\u001b[0m \u001b[0;31m#recursively call yourself\u001b[0m\u001b[0;34m\u001b[0m\u001b[0;34m\u001b[0m\u001b[0m\n\u001b[0m\u001b[1;32m     76\u001b[0m       \u001b[0;32mif\u001b[0m \u001b[0mwinner\u001b[0m \u001b[0;32mis\u001b[0m \u001b[0;32mnot\u001b[0m \u001b[0;32mNone\u001b[0m\u001b[0;34m:\u001b[0m\u001b[0;34m\u001b[0m\u001b[0;34m\u001b[0m\u001b[0m\n\u001b[1;32m     77\u001b[0m         \u001b[0mprint_maze\u001b[0m\u001b[0;34m(\u001b[0m\u001b[0mwinner\u001b[0m\u001b[0;34m)\u001b[0m\u001b[0;34m\u001b[0m\u001b[0;34m\u001b[0m\u001b[0m\n",
            "\u001b[0;32m<ipython-input-16-f9946bad7a29>\u001b[0m in \u001b[0;36mfind_path\u001b[0;34m(maze, score, max_score, loc, barrier_locs)\u001b[0m\n\u001b[1;32m     73\u001b[0m \u001b[0;34m\u001b[0m\u001b[0m\n\u001b[1;32m     74\u001b[0m       \u001b[0mnext_loc\u001b[0m \u001b[0;34m=\u001b[0m \u001b[0mnext_neighbors\u001b[0m\u001b[0;34m.\u001b[0m\u001b[0mpop\u001b[0m\u001b[0;34m(\u001b[0m\u001b[0;34m)\u001b[0m \u001b[0;31m#get the next location the piece will move to\u001b[0m\u001b[0;34m\u001b[0m\u001b[0;34m\u001b[0m\u001b[0m\n\u001b[0;32m---> 75\u001b[0;31m       \u001b[0mwinner\u001b[0m \u001b[0;34m=\u001b[0m \u001b[0mfind_path\u001b[0m\u001b[0;34m(\u001b[0m\u001b[0mlocal_maze\u001b[0m\u001b[0;34m,\u001b[0m \u001b[0mscore\u001b[0m\u001b[0;34m,\u001b[0m \u001b[0mmax_score\u001b[0m\u001b[0;34m,\u001b[0m \u001b[0mnext_loc\u001b[0m\u001b[0;34m,\u001b[0m \u001b[0mbarrier_locs\u001b[0m\u001b[0;34m)\u001b[0m \u001b[0;31m#recursively call yourself\u001b[0m\u001b[0;34m\u001b[0m\u001b[0;34m\u001b[0m\u001b[0m\n\u001b[0m\u001b[1;32m     76\u001b[0m       \u001b[0;32mif\u001b[0m \u001b[0mwinner\u001b[0m \u001b[0;32mis\u001b[0m \u001b[0;32mnot\u001b[0m \u001b[0;32mNone\u001b[0m\u001b[0;34m:\u001b[0m\u001b[0;34m\u001b[0m\u001b[0;34m\u001b[0m\u001b[0m\n\u001b[1;32m     77\u001b[0m         \u001b[0mprint_maze\u001b[0m\u001b[0;34m(\u001b[0m\u001b[0mwinner\u001b[0m\u001b[0;34m)\u001b[0m\u001b[0;34m\u001b[0m\u001b[0;34m\u001b[0m\u001b[0m\n",
            "\u001b[0;32m<ipython-input-16-f9946bad7a29>\u001b[0m in \u001b[0;36mfind_path\u001b[0;34m(maze, score, max_score, loc, barrier_locs)\u001b[0m\n\u001b[1;32m     73\u001b[0m \u001b[0;34m\u001b[0m\u001b[0m\n\u001b[1;32m     74\u001b[0m       \u001b[0mnext_loc\u001b[0m \u001b[0;34m=\u001b[0m \u001b[0mnext_neighbors\u001b[0m\u001b[0;34m.\u001b[0m\u001b[0mpop\u001b[0m\u001b[0;34m(\u001b[0m\u001b[0;34m)\u001b[0m \u001b[0;31m#get the next location the piece will move to\u001b[0m\u001b[0;34m\u001b[0m\u001b[0;34m\u001b[0m\u001b[0m\n\u001b[0;32m---> 75\u001b[0;31m       \u001b[0mwinner\u001b[0m \u001b[0;34m=\u001b[0m \u001b[0mfind_path\u001b[0m\u001b[0;34m(\u001b[0m\u001b[0mlocal_maze\u001b[0m\u001b[0;34m,\u001b[0m \u001b[0mscore\u001b[0m\u001b[0;34m,\u001b[0m \u001b[0mmax_score\u001b[0m\u001b[0;34m,\u001b[0m \u001b[0mnext_loc\u001b[0m\u001b[0;34m,\u001b[0m \u001b[0mbarrier_locs\u001b[0m\u001b[0;34m)\u001b[0m \u001b[0;31m#recursively call yourself\u001b[0m\u001b[0;34m\u001b[0m\u001b[0;34m\u001b[0m\u001b[0m\n\u001b[0m\u001b[1;32m     76\u001b[0m       \u001b[0;32mif\u001b[0m \u001b[0mwinner\u001b[0m \u001b[0;32mis\u001b[0m \u001b[0;32mnot\u001b[0m \u001b[0;32mNone\u001b[0m\u001b[0;34m:\u001b[0m\u001b[0;34m\u001b[0m\u001b[0;34m\u001b[0m\u001b[0m\n\u001b[1;32m     77\u001b[0m         \u001b[0mprint_maze\u001b[0m\u001b[0;34m(\u001b[0m\u001b[0mwinner\u001b[0m\u001b[0;34m)\u001b[0m\u001b[0;34m\u001b[0m\u001b[0;34m\u001b[0m\u001b[0m\n",
            "\u001b[0;32m<ipython-input-16-f9946bad7a29>\u001b[0m in \u001b[0;36mfind_path\u001b[0;34m(maze, score, max_score, loc, barrier_locs)\u001b[0m\n\u001b[1;32m     73\u001b[0m \u001b[0;34m\u001b[0m\u001b[0m\n\u001b[1;32m     74\u001b[0m       \u001b[0mnext_loc\u001b[0m \u001b[0;34m=\u001b[0m \u001b[0mnext_neighbors\u001b[0m\u001b[0;34m.\u001b[0m\u001b[0mpop\u001b[0m\u001b[0;34m(\u001b[0m\u001b[0;34m)\u001b[0m \u001b[0;31m#get the next location the piece will move to\u001b[0m\u001b[0;34m\u001b[0m\u001b[0;34m\u001b[0m\u001b[0m\n\u001b[0;32m---> 75\u001b[0;31m       \u001b[0mwinner\u001b[0m \u001b[0;34m=\u001b[0m \u001b[0mfind_path\u001b[0m\u001b[0;34m(\u001b[0m\u001b[0mlocal_maze\u001b[0m\u001b[0;34m,\u001b[0m \u001b[0mscore\u001b[0m\u001b[0;34m,\u001b[0m \u001b[0mmax_score\u001b[0m\u001b[0;34m,\u001b[0m \u001b[0mnext_loc\u001b[0m\u001b[0;34m,\u001b[0m \u001b[0mbarrier_locs\u001b[0m\u001b[0;34m)\u001b[0m \u001b[0;31m#recursively call yourself\u001b[0m\u001b[0;34m\u001b[0m\u001b[0;34m\u001b[0m\u001b[0m\n\u001b[0m\u001b[1;32m     76\u001b[0m       \u001b[0;32mif\u001b[0m \u001b[0mwinner\u001b[0m \u001b[0;32mis\u001b[0m \u001b[0;32mnot\u001b[0m \u001b[0;32mNone\u001b[0m\u001b[0;34m:\u001b[0m\u001b[0;34m\u001b[0m\u001b[0;34m\u001b[0m\u001b[0m\n\u001b[1;32m     77\u001b[0m         \u001b[0mprint_maze\u001b[0m\u001b[0;34m(\u001b[0m\u001b[0mwinner\u001b[0m\u001b[0;34m)\u001b[0m\u001b[0;34m\u001b[0m\u001b[0;34m\u001b[0m\u001b[0m\n",
            "\u001b[0;32m<ipython-input-16-f9946bad7a29>\u001b[0m in \u001b[0;36mfind_path\u001b[0;34m(maze, score, max_score, loc, barrier_locs)\u001b[0m\n\u001b[1;32m     73\u001b[0m \u001b[0;34m\u001b[0m\u001b[0m\n\u001b[1;32m     74\u001b[0m       \u001b[0mnext_loc\u001b[0m \u001b[0;34m=\u001b[0m \u001b[0mnext_neighbors\u001b[0m\u001b[0;34m.\u001b[0m\u001b[0mpop\u001b[0m\u001b[0;34m(\u001b[0m\u001b[0;34m)\u001b[0m \u001b[0;31m#get the next location the piece will move to\u001b[0m\u001b[0;34m\u001b[0m\u001b[0;34m\u001b[0m\u001b[0m\n\u001b[0;32m---> 75\u001b[0;31m       \u001b[0mwinner\u001b[0m \u001b[0;34m=\u001b[0m \u001b[0mfind_path\u001b[0m\u001b[0;34m(\u001b[0m\u001b[0mlocal_maze\u001b[0m\u001b[0;34m,\u001b[0m \u001b[0mscore\u001b[0m\u001b[0;34m,\u001b[0m \u001b[0mmax_score\u001b[0m\u001b[0;34m,\u001b[0m \u001b[0mnext_loc\u001b[0m\u001b[0;34m,\u001b[0m \u001b[0mbarrier_locs\u001b[0m\u001b[0;34m)\u001b[0m \u001b[0;31m#recursively call yourself\u001b[0m\u001b[0;34m\u001b[0m\u001b[0;34m\u001b[0m\u001b[0m\n\u001b[0m\u001b[1;32m     76\u001b[0m       \u001b[0;32mif\u001b[0m \u001b[0mwinner\u001b[0m \u001b[0;32mis\u001b[0m \u001b[0;32mnot\u001b[0m \u001b[0;32mNone\u001b[0m\u001b[0;34m:\u001b[0m\u001b[0;34m\u001b[0m\u001b[0;34m\u001b[0m\u001b[0m\n\u001b[1;32m     77\u001b[0m         \u001b[0mprint_maze\u001b[0m\u001b[0;34m(\u001b[0m\u001b[0mwinner\u001b[0m\u001b[0;34m)\u001b[0m\u001b[0;34m\u001b[0m\u001b[0;34m\u001b[0m\u001b[0m\n",
            "\u001b[0;32m<ipython-input-16-f9946bad7a29>\u001b[0m in \u001b[0;36mfind_path\u001b[0;34m(maze, score, max_score, loc, barrier_locs)\u001b[0m\n\u001b[1;32m     73\u001b[0m \u001b[0;34m\u001b[0m\u001b[0m\n\u001b[1;32m     74\u001b[0m       \u001b[0mnext_loc\u001b[0m \u001b[0;34m=\u001b[0m \u001b[0mnext_neighbors\u001b[0m\u001b[0;34m.\u001b[0m\u001b[0mpop\u001b[0m\u001b[0;34m(\u001b[0m\u001b[0;34m)\u001b[0m \u001b[0;31m#get the next location the piece will move to\u001b[0m\u001b[0;34m\u001b[0m\u001b[0;34m\u001b[0m\u001b[0m\n\u001b[0;32m---> 75\u001b[0;31m       \u001b[0mwinner\u001b[0m \u001b[0;34m=\u001b[0m \u001b[0mfind_path\u001b[0m\u001b[0;34m(\u001b[0m\u001b[0mlocal_maze\u001b[0m\u001b[0;34m,\u001b[0m \u001b[0mscore\u001b[0m\u001b[0;34m,\u001b[0m \u001b[0mmax_score\u001b[0m\u001b[0;34m,\u001b[0m \u001b[0mnext_loc\u001b[0m\u001b[0;34m,\u001b[0m \u001b[0mbarrier_locs\u001b[0m\u001b[0;34m)\u001b[0m \u001b[0;31m#recursively call yourself\u001b[0m\u001b[0;34m\u001b[0m\u001b[0;34m\u001b[0m\u001b[0m\n\u001b[0m\u001b[1;32m     76\u001b[0m       \u001b[0;32mif\u001b[0m \u001b[0mwinner\u001b[0m \u001b[0;32mis\u001b[0m \u001b[0;32mnot\u001b[0m \u001b[0;32mNone\u001b[0m\u001b[0;34m:\u001b[0m\u001b[0;34m\u001b[0m\u001b[0;34m\u001b[0m\u001b[0m\n\u001b[1;32m     77\u001b[0m         \u001b[0mprint_maze\u001b[0m\u001b[0;34m(\u001b[0m\u001b[0mwinner\u001b[0m\u001b[0;34m)\u001b[0m\u001b[0;34m\u001b[0m\u001b[0;34m\u001b[0m\u001b[0m\n",
            "\u001b[0;32m<ipython-input-16-f9946bad7a29>\u001b[0m in \u001b[0;36mfind_path\u001b[0;34m(maze, score, max_score, loc, barrier_locs)\u001b[0m\n\u001b[1;32m     73\u001b[0m \u001b[0;34m\u001b[0m\u001b[0m\n\u001b[1;32m     74\u001b[0m       \u001b[0mnext_loc\u001b[0m \u001b[0;34m=\u001b[0m \u001b[0mnext_neighbors\u001b[0m\u001b[0;34m.\u001b[0m\u001b[0mpop\u001b[0m\u001b[0;34m(\u001b[0m\u001b[0;34m)\u001b[0m \u001b[0;31m#get the next location the piece will move to\u001b[0m\u001b[0;34m\u001b[0m\u001b[0;34m\u001b[0m\u001b[0m\n\u001b[0;32m---> 75\u001b[0;31m       \u001b[0mwinner\u001b[0m \u001b[0;34m=\u001b[0m \u001b[0mfind_path\u001b[0m\u001b[0;34m(\u001b[0m\u001b[0mlocal_maze\u001b[0m\u001b[0;34m,\u001b[0m \u001b[0mscore\u001b[0m\u001b[0;34m,\u001b[0m \u001b[0mmax_score\u001b[0m\u001b[0;34m,\u001b[0m \u001b[0mnext_loc\u001b[0m\u001b[0;34m,\u001b[0m \u001b[0mbarrier_locs\u001b[0m\u001b[0;34m)\u001b[0m \u001b[0;31m#recursively call yourself\u001b[0m\u001b[0;34m\u001b[0m\u001b[0;34m\u001b[0m\u001b[0m\n\u001b[0m\u001b[1;32m     76\u001b[0m       \u001b[0;32mif\u001b[0m \u001b[0mwinner\u001b[0m \u001b[0;32mis\u001b[0m \u001b[0;32mnot\u001b[0m \u001b[0;32mNone\u001b[0m\u001b[0;34m:\u001b[0m\u001b[0;34m\u001b[0m\u001b[0;34m\u001b[0m\u001b[0m\n\u001b[1;32m     77\u001b[0m         \u001b[0mprint_maze\u001b[0m\u001b[0;34m(\u001b[0m\u001b[0mwinner\u001b[0m\u001b[0;34m)\u001b[0m\u001b[0;34m\u001b[0m\u001b[0;34m\u001b[0m\u001b[0m\n",
            "\u001b[0;32m<ipython-input-16-f9946bad7a29>\u001b[0m in \u001b[0;36mfind_path\u001b[0;34m(maze, score, max_score, loc, barrier_locs)\u001b[0m\n\u001b[1;32m     73\u001b[0m \u001b[0;34m\u001b[0m\u001b[0m\n\u001b[1;32m     74\u001b[0m       \u001b[0mnext_loc\u001b[0m \u001b[0;34m=\u001b[0m \u001b[0mnext_neighbors\u001b[0m\u001b[0;34m.\u001b[0m\u001b[0mpop\u001b[0m\u001b[0;34m(\u001b[0m\u001b[0;34m)\u001b[0m \u001b[0;31m#get the next location the piece will move to\u001b[0m\u001b[0;34m\u001b[0m\u001b[0;34m\u001b[0m\u001b[0m\n\u001b[0;32m---> 75\u001b[0;31m       \u001b[0mwinner\u001b[0m \u001b[0;34m=\u001b[0m \u001b[0mfind_path\u001b[0m\u001b[0;34m(\u001b[0m\u001b[0mlocal_maze\u001b[0m\u001b[0;34m,\u001b[0m \u001b[0mscore\u001b[0m\u001b[0;34m,\u001b[0m \u001b[0mmax_score\u001b[0m\u001b[0;34m,\u001b[0m \u001b[0mnext_loc\u001b[0m\u001b[0;34m,\u001b[0m \u001b[0mbarrier_locs\u001b[0m\u001b[0;34m)\u001b[0m \u001b[0;31m#recursively call yourself\u001b[0m\u001b[0;34m\u001b[0m\u001b[0;34m\u001b[0m\u001b[0m\n\u001b[0m\u001b[1;32m     76\u001b[0m       \u001b[0;32mif\u001b[0m \u001b[0mwinner\u001b[0m \u001b[0;32mis\u001b[0m \u001b[0;32mnot\u001b[0m \u001b[0;32mNone\u001b[0m\u001b[0;34m:\u001b[0m\u001b[0;34m\u001b[0m\u001b[0;34m\u001b[0m\u001b[0m\n\u001b[1;32m     77\u001b[0m         \u001b[0mprint_maze\u001b[0m\u001b[0;34m(\u001b[0m\u001b[0mwinner\u001b[0m\u001b[0;34m)\u001b[0m\u001b[0;34m\u001b[0m\u001b[0;34m\u001b[0m\u001b[0m\n",
            "\u001b[0;32m<ipython-input-16-f9946bad7a29>\u001b[0m in \u001b[0;36mfind_path\u001b[0;34m(maze, score, max_score, loc, barrier_locs)\u001b[0m\n\u001b[1;32m     73\u001b[0m \u001b[0;34m\u001b[0m\u001b[0m\n\u001b[1;32m     74\u001b[0m       \u001b[0mnext_loc\u001b[0m \u001b[0;34m=\u001b[0m \u001b[0mnext_neighbors\u001b[0m\u001b[0;34m.\u001b[0m\u001b[0mpop\u001b[0m\u001b[0;34m(\u001b[0m\u001b[0;34m)\u001b[0m \u001b[0;31m#get the next location the piece will move to\u001b[0m\u001b[0;34m\u001b[0m\u001b[0;34m\u001b[0m\u001b[0m\n\u001b[0;32m---> 75\u001b[0;31m       \u001b[0mwinner\u001b[0m \u001b[0;34m=\u001b[0m \u001b[0mfind_path\u001b[0m\u001b[0;34m(\u001b[0m\u001b[0mlocal_maze\u001b[0m\u001b[0;34m,\u001b[0m \u001b[0mscore\u001b[0m\u001b[0;34m,\u001b[0m \u001b[0mmax_score\u001b[0m\u001b[0;34m,\u001b[0m \u001b[0mnext_loc\u001b[0m\u001b[0;34m,\u001b[0m \u001b[0mbarrier_locs\u001b[0m\u001b[0;34m)\u001b[0m \u001b[0;31m#recursively call yourself\u001b[0m\u001b[0;34m\u001b[0m\u001b[0;34m\u001b[0m\u001b[0m\n\u001b[0m\u001b[1;32m     76\u001b[0m       \u001b[0;32mif\u001b[0m \u001b[0mwinner\u001b[0m \u001b[0;32mis\u001b[0m \u001b[0;32mnot\u001b[0m \u001b[0;32mNone\u001b[0m\u001b[0;34m:\u001b[0m\u001b[0;34m\u001b[0m\u001b[0;34m\u001b[0m\u001b[0m\n\u001b[1;32m     77\u001b[0m         \u001b[0mprint_maze\u001b[0m\u001b[0;34m(\u001b[0m\u001b[0mwinner\u001b[0m\u001b[0;34m)\u001b[0m\u001b[0;34m\u001b[0m\u001b[0;34m\u001b[0m\u001b[0m\n",
            "\u001b[0;32m<ipython-input-16-f9946bad7a29>\u001b[0m in \u001b[0;36mfind_path\u001b[0;34m(maze, score, max_score, loc, barrier_locs)\u001b[0m\n\u001b[1;32m     73\u001b[0m \u001b[0;34m\u001b[0m\u001b[0m\n\u001b[1;32m     74\u001b[0m       \u001b[0mnext_loc\u001b[0m \u001b[0;34m=\u001b[0m \u001b[0mnext_neighbors\u001b[0m\u001b[0;34m.\u001b[0m\u001b[0mpop\u001b[0m\u001b[0;34m(\u001b[0m\u001b[0;34m)\u001b[0m \u001b[0;31m#get the next location the piece will move to\u001b[0m\u001b[0;34m\u001b[0m\u001b[0;34m\u001b[0m\u001b[0m\n\u001b[0;32m---> 75\u001b[0;31m       \u001b[0mwinner\u001b[0m \u001b[0;34m=\u001b[0m \u001b[0mfind_path\u001b[0m\u001b[0;34m(\u001b[0m\u001b[0mlocal_maze\u001b[0m\u001b[0;34m,\u001b[0m \u001b[0mscore\u001b[0m\u001b[0;34m,\u001b[0m \u001b[0mmax_score\u001b[0m\u001b[0;34m,\u001b[0m \u001b[0mnext_loc\u001b[0m\u001b[0;34m,\u001b[0m \u001b[0mbarrier_locs\u001b[0m\u001b[0;34m)\u001b[0m \u001b[0;31m#recursively call yourself\u001b[0m\u001b[0;34m\u001b[0m\u001b[0;34m\u001b[0m\u001b[0m\n\u001b[0m\u001b[1;32m     76\u001b[0m       \u001b[0;32mif\u001b[0m \u001b[0mwinner\u001b[0m \u001b[0;32mis\u001b[0m \u001b[0;32mnot\u001b[0m \u001b[0;32mNone\u001b[0m\u001b[0;34m:\u001b[0m\u001b[0;34m\u001b[0m\u001b[0;34m\u001b[0m\u001b[0m\n\u001b[1;32m     77\u001b[0m         \u001b[0mprint_maze\u001b[0m\u001b[0;34m(\u001b[0m\u001b[0mwinner\u001b[0m\u001b[0;34m)\u001b[0m\u001b[0;34m\u001b[0m\u001b[0;34m\u001b[0m\u001b[0m\n",
            "\u001b[0;32m<ipython-input-16-f9946bad7a29>\u001b[0m in \u001b[0;36mfind_path\u001b[0;34m(maze, score, max_score, loc, barrier_locs)\u001b[0m\n\u001b[1;32m     11\u001b[0m     \u001b[0;32mreturn\u001b[0m \u001b[0mlocal_maze\u001b[0m\u001b[0;34m\u001b[0m\u001b[0;34m\u001b[0m\u001b[0m\n\u001b[1;32m     12\u001b[0m \u001b[0;34m\u001b[0m\u001b[0m\n\u001b[0;32m---> 13\u001b[0;31m   \u001b[0mopen_positions\u001b[0m \u001b[0;34m=\u001b[0m \u001b[0mget_open_positions\u001b[0m\u001b[0;34m(\u001b[0m\u001b[0mlocal_maze\u001b[0m\u001b[0;34m)\u001b[0m \u001b[0;31m#find all open positions on the map\u001b[0m\u001b[0;34m\u001b[0m\u001b[0;34m\u001b[0m\u001b[0m\n\u001b[0m\u001b[1;32m     14\u001b[0m   \u001b[0mnext_neighbors\u001b[0m \u001b[0;34m=\u001b[0m \u001b[0mcurrent_neighbors\u001b[0m\u001b[0;34m(\u001b[0m\u001b[0mloc\u001b[0m\u001b[0;34m,\u001b[0m \u001b[0mopen_positions\u001b[0m\u001b[0;34m)\u001b[0m \u001b[0;31m#check the open positions available to move to\u001b[0m\u001b[0;34m\u001b[0m\u001b[0;34m\u001b[0m\u001b[0m\n\u001b[1;32m     15\u001b[0m \u001b[0;34m\u001b[0m\u001b[0m\n",
            "\u001b[0;32m<ipython-input-5-c7245cf40353>\u001b[0m in \u001b[0;36mget_open_positions\u001b[0;34m(maze)\u001b[0m\n\u001b[1;32m      7\u001b[0m   \u001b[0mclosed_positions\u001b[0m \u001b[0;34m=\u001b[0m \u001b[0;34m[\u001b[0m\u001b[0;34m]\u001b[0m\u001b[0;34m\u001b[0m\u001b[0;34m\u001b[0m\u001b[0m\n\u001b[1;32m      8\u001b[0m   \u001b[0;32mfor\u001b[0m \u001b[0mx\u001b[0m\u001b[0;34m,\u001b[0m \u001b[0mrow\u001b[0m \u001b[0;32min\u001b[0m \u001b[0menumerate\u001b[0m\u001b[0;34m(\u001b[0m\u001b[0mmaze\u001b[0m\u001b[0;34m)\u001b[0m\u001b[0;34m:\u001b[0m\u001b[0;34m\u001b[0m\u001b[0;34m\u001b[0m\u001b[0m\n\u001b[0;32m----> 9\u001b[0;31m     \u001b[0;32mfor\u001b[0m \u001b[0my\u001b[0m\u001b[0;34m,\u001b[0m \u001b[0mvalue\u001b[0m \u001b[0;32min\u001b[0m \u001b[0menumerate\u001b[0m\u001b[0;34m(\u001b[0m\u001b[0mrow\u001b[0m\u001b[0;34m)\u001b[0m\u001b[0;34m:\u001b[0m\u001b[0;34m\u001b[0m\u001b[0;34m\u001b[0m\u001b[0m\n\u001b[0m\u001b[1;32m     10\u001b[0m       \u001b[0;32mif\u001b[0m \u001b[0mvalue\u001b[0m \u001b[0;34m>\u001b[0m \u001b[0;36m0\u001b[0m\u001b[0;34m:\u001b[0m \u001b[0;31m#since we're assuming 0 as empty, anything bigger has been visited, and therefore is closed\u001b[0m\u001b[0;34m\u001b[0m\u001b[0;34m\u001b[0m\u001b[0m\n\u001b[1;32m     11\u001b[0m         \u001b[0mclosed_positions\u001b[0m\u001b[0;34m.\u001b[0m\u001b[0mappend\u001b[0m\u001b[0;34m(\u001b[0m\u001b[0;34m(\u001b[0m\u001b[0mx\u001b[0m\u001b[0;34m,\u001b[0m \u001b[0my\u001b[0m\u001b[0;34m)\u001b[0m\u001b[0;34m)\u001b[0m\u001b[0;34m\u001b[0m\u001b[0;34m\u001b[0m\u001b[0m\n",
            "\u001b[0;31mKeyboardInterrupt\u001b[0m: "
          ]
        }
      ],
      "source": [
        "### MAIN PART 2 - Check if maze has been solved before, and if not, solve the maze ###\n",
        "\n",
        "prev_solved = check_prev_solved(barrier_locs)\n",
        "if prev_solved is not None:\n",
        "  print(\"I know this one! Here's my solution. Good Luck!\\n\\n\")\n",
        "  print_maze(prev_solved)\n",
        "\n",
        "else:\n",
        "  best_score = 0\n",
        "  best_maze = []\n",
        "  try:\n",
        "    solution = find_path(maze, 0, max_score, (0,0), barrier_locs)\n",
        "  except Exception as e:\n",
        "    print(\"I exited the loop. Solution was found! Otherwise, another issue occured {}\".format(e))"
      ]
    },
    {
      "cell_type": "code",
      "execution_count": null,
      "metadata": {
        "colab": {
          "base_uri": "https://localhost:8080/",
          "height": 70
        },
        "id": "vakon8W7yFd-",
        "outputId": "349d15e3-af64-4369-de60-b04dfbd18bf2"
      },
      "outputs": [
        {
          "data": {
            "application/vnd.google.colaboratory.intrinsic+json": {
              "type": "string"
            },
            "text/plain": [
              "\"\\ndef save_to_drive():\\n  uploaded = drive.CreateFile({'Maze Solutions': 'maze_data.json'})\\n  uploaded.SetContentString('Sample upload file content')\\n  uploaded.Upload()\\n  print('Uploaded file with ID {}'.format(uploaded.get('id')))\\n\""
            ]
          },
          "execution_count": 19,
          "metadata": {},
          "output_type": "execute_result"
        }
      ],
      "source": [
        "\"\"\"\n",
        "def save_to_drive():\n",
        "  uploaded = drive.CreateFile({'Maze Solutions': 'maze_data.json'})\n",
        "  uploaded.SetContentString('Sample upload file content')\n",
        "  uploaded.Upload()\n",
        "  print('Uploaded file with ID {}'.format(uploaded.get('id')))\n",
        "\"\"\""
      ]
    },
    {
      "cell_type": "code",
      "execution_count": null,
      "metadata": {
        "id": "HqJSZblGkoD4"
      },
      "outputs": [],
      "source": [
        "def fill_memory(num_rounds=10):\n",
        "\n",
        "  i = 0\n",
        "\n",
        "  while i < num_rounds:\n",
        "    barrier_locs = generate_random_barriers()\n",
        "    maze, max_score = generate_maze(barrier_locs)\n",
        "    print_maze(maze)\n",
        "    print(max_score)\n",
        "    prev_solved = check_prev_solved(barrier_locs)\n",
        "\n",
        "    if prev_solved is not None:\n",
        "      print(\"I know this one! Here's my solution. Good Luck!\\n\\n\")\n",
        "      print_maze(prev_solved)\n",
        "\n",
        "    else:\n",
        "      best_score = 0\n",
        "      best_maze = []\n",
        "      try:\n",
        "        solution = find_path(maze, 0, max_score, (0,0), barrier_locs)\n",
        "      except Exception as e:\n",
        "        print(\"I exited the loop. Solution was found!\")\n",
        "    i += 1\n",
        "\n",
        "  files.download('maze_data.json')"
      ]
    },
    {
      "cell_type": "code",
      "execution_count": null,
      "metadata": {
        "colab": {
          "background_save": true,
          "base_uri": "https://localhost:8080/"
        },
        "id": "VAqk3Z8S7Ygp",
        "outputId": "dac0fc99-3100-4a55-dce8-94ecec7c2f1b"
      },
      "outputs": [
        {
          "name": "stdout",
          "output_type": "stream",
          "text": [
            "00 | 00 | 00 | 00 | 00 | XX | 00 | 00 | 00 | 00\n",
            "00 | 00 | 00 | 00 | 00 | 00 | 00 | 00 | 00 | 00\n",
            "00 | 00 | 00 | 00 | 00 | 00 | 00 | 00 | 00 | 00\n",
            "00 | 00 | 00 | 00 | 00 | 00 | 00 | 00 | 00 | 00\n",
            "00 | 00 | 00 | 00 | 00 | 00 | 00 | 00 | 00 | 00\n",
            "00 | 00 | 00 | 00 | 00 | 00 | 00 | 00 | 00 | XX\n",
            "00 | 00 | 00 | 00 | 00 | 00 | 00 | 00 | 00 | 00\n",
            "00 | XX | 00 | 00 | 00 | 00 | 00 | 00 | 00 | 00\n",
            "00 | 00 | 00 | 00 | 00 | 00 | 00 | 00 | 00 | 00\n",
            "00 | 00 | 00 | 00 | XX | 00 | 00 | 00 | 00 | 00\n",
            "96\n"
          ]
        }
      ],
      "source": [
        "fill_memory()"
      ]
    }
  ],
  "metadata": {
    "colab": {
      "collapsed_sections": [],
      "name": "Maze Solver.ipynb",
      "provenance": [],
      "authorship_tag": "ABX9TyPOsZtHddB/eSOmWZpttsOM",
      "include_colab_link": true
    },
    "kernelspec": {
      "display_name": "Python 3",
      "name": "python3"
    },
    "language_info": {
      "name": "python"
    }
  },
  "nbformat": 4,
  "nbformat_minor": 0
}